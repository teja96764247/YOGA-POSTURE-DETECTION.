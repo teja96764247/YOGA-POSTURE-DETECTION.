{
  "cells": [
    {
      "cell_type": "code",
      "execution_count": 1,
      "metadata": {
        "id": "FQfL9-4tHmLf"
      },
      "outputs": [],
      "source": [
        "!mkdir -p ~/.kaggle\n",
        "!cp kaggle.json ~/.kaggle/\n",
        "!chmod 600 ~/.kaggle/kaggle.json"
      ]
    },
    {
      "cell_type": "code",
      "execution_count": 2,
      "metadata": {
        "colab": {
          "base_uri": "https://localhost:8080/"
        },
        "id": "LlY2mMNJH5eM",
        "outputId": "61c86c21-d38c-436e-cc43-a61600f03708"
      },
      "outputs": [
        {
          "output_type": "stream",
          "name": "stdout",
          "text": [
            "Downloading yoga-posture-dataset.zip to /content\n",
            " 97% 435M/447M [00:05<00:00, 71.3MB/s]\n",
            "100% 447M/447M [00:05<00:00, 78.1MB/s]\n"
          ]
        }
      ],
      "source": [
        "!kaggle datasets download -d tr1gg3rtrash/yoga-posture-dataset"
      ]
    },
    {
      "cell_type": "code",
      "execution_count": 3,
      "metadata": {
        "colab": {
          "base_uri": "https://localhost:8080/"
        },
        "id": "aVGZYBszH5nN",
        "outputId": "f6ffe8fe-1eac-432e-aff3-8a16cc7ae2f2"
      },
      "outputs": [
        {
          "output_type": "stream",
          "name": "stdout",
          "text": [
            "The dataset is extracted\n"
          ]
        }
      ],
      "source": [
        "from zipfile import ZipFile\n",
        "dataset = '/content/yoga-posture-dataset.zip'\n",
        "\n",
        "with ZipFile(dataset,'r') as zip:\n",
        "  zip.extractall()\n",
        "  print('The dataset is extracted')"
      ]
    },
    {
      "cell_type": "code",
      "execution_count": 4,
      "metadata": {
        "id": "yawboasAH6Gu"
      },
      "outputs": [],
      "source": [
        "import numpy as np\n",
        "import pandas as pd\n",
        "import matplotlib.pyplot as plt\n",
        "import os\n",
        "import cv2\n",
        "from PIL import Image\n",
        "from google.colab.patches import cv2_imshow"
      ]
    },
    {
      "cell_type": "code",
      "execution_count": 5,
      "metadata": {
        "id": "V1dVDpn3KDHq"
      },
      "outputs": [],
      "source": [
        "data=[]"
      ]
    },
    {
      "cell_type": "code",
      "execution_count": 5,
      "metadata": {
        "id": "Lt9FxOMOKojH"
      },
      "outputs": [],
      "source": []
    },
    {
      "cell_type": "code",
      "execution_count": 5,
      "metadata": {
        "id": "o8XX0DlyKo4t"
      },
      "outputs": [],
      "source": []
    },
    {
      "cell_type": "code",
      "execution_count": 6,
      "metadata": {
        "colab": {
          "base_uri": "https://localhost:8080/"
        },
        "id": "xrk3ljW1H6Re",
        "outputId": "72ca8133-aad7-471a-c7f2-d8164cf64c42"
      },
      "outputs": [
        {
          "output_type": "stream",
          "name": "stdout",
          "text": [
            "['File31.png', 'File28.png', 'File70.jpeg', 'File15.png', 'File64.png', 'File26.png', 'File20.png', 'File39.png', 'File37.png', 'File54.png', 'File61.png', 'File47.png', 'File3.png', 'File52.png', 'File72.jpeg', 'File59.png', 'File56.png', 'File68.png', 'File1.png', 'File35.png', 'File4.png', 'File25.jpg', 'File44.png', 'File43.png', 'File19.png', 'File46.png', 'File13.png', 'File34.png', 'File18.png', 'File11.png', 'File41.png', 'File49.png', 'File55.png', 'File40.png', 'File22.png', 'File30.png', 'File33.png', 'File50.png', 'File73.jpeg', 'File12.png', 'File63.png', 'File62.png', 'File53.png', 'File51.png', 'File21.png', 'File27.png', 'File5.png', 'File57.png', 'File45.png', 'File24.png', 'File7.png', 'File69.png', 'File38.png', 'File32.png', 'File58.png', 'File17.png', 'File71.jpeg', 'File6.png', 'File66.png', 'File2.png', 'File9.png', 'File29.png', 'File10.png', 'File67.png', 'File8.png', 'File36.png', 'File60.png', 'File48.png', 'File65.png', 'File74.png', 'File14.png', 'File16.png', 'File42.png', 'File23.png']\n",
            "74\n"
          ]
        },
        {
          "output_type": "stream",
          "name": "stderr",
          "text": [
            "/usr/local/lib/python3.10/dist-packages/PIL/Image.py:996: UserWarning: Palette images with Transparency expressed in bytes should be converted to RGBA images\n",
            "  warnings.warn(\n"
          ]
        }
      ],
      "source": [
        "folder_path='/content/Adho Mukha Svanasana'\n",
        "folder_images=os.listdir(folder_path)\n",
        "print(folder_images)\n",
        "print(len(folder_images))\n",
        "for i in range(74):\n",
        "  img_path=folder_path+'/'+folder_images[i]\n",
        "  img_pillow=Image.open(img_path)\n",
        "  img_color=img_pillow.convert('RGB')\n",
        "  img_resize=img_color.resize((64,64))\n",
        "  img_arr=np.array(img_resize)\n",
        "  data.append([img_arr,0])"
      ]
    },
    {
      "cell_type": "code",
      "execution_count": 7,
      "metadata": {
        "colab": {
          "base_uri": "https://localhost:8080/"
        },
        "id": "Ip9-mkKtH7GA",
        "outputId": "6492e41b-cc51-4bf1-b695-c87c82bbf432"
      },
      "outputs": [
        {
          "output_type": "stream",
          "name": "stdout",
          "text": [
            "['File31.png', 'File28.png', 'File63.jpeg', 'File15.png', 'File62.jpeg', 'File26.png', 'File20.png', 'File39.png', 'File37.png', 'File54.png', 'File47.png', 'File3.png', 'File52.png', 'File59.png', 'File56.png', 'File1.png', 'File35.png', 'File4.png', 'File44.png', 'File43.png', 'File19.png', 'File46.png', 'File13.png', 'File34.png', 'File18.png', 'File11.png', 'File64.jpeg', 'File41.png', 'File49.png', 'File55.png', 'File40.png', 'File22.png', 'File30.png', 'File33.png', 'File50.png', 'File12.png', 'File53.png', 'File51.png', 'File21.png', 'File27.png', 'File5.png', 'File57.png', 'File45.png', 'File24.png', 'File7.png', 'File38.png', 'File32.png', 'File58.png', 'File17.png', 'File6.png', 'File2.png', 'File9.png', 'File65.jpeg', 'File29.png', 'File10.png', 'File25.png', 'File8.png', 'File36.png', 'File48.png', 'File60.jpeg', 'File14.png', 'File16.png', 'File42.png', 'File61.jpeg', 'File23.png']\n",
            "65\n"
          ]
        }
      ],
      "source": [
        "folder_path='/content/Adho Mukha Vrksasana'\n",
        "folder_images=os.listdir(folder_path)\n",
        "print(folder_images)\n",
        "print(len(folder_images))\n",
        "for i in range(65):\n",
        "  img_path=folder_path+'/'+folder_images[i]\n",
        "  img_pillow=Image.open(img_path)\n",
        "  img_color=img_pillow.convert('RGB')\n",
        "  img_resize=img_color.resize((64,64))\n",
        "  img_arr=np.array(img_resize)\n",
        "  data.append([img_arr,1])"
      ]
    },
    {
      "cell_type": "code",
      "execution_count": 8,
      "metadata": {
        "colab": {
          "base_uri": "https://localhost:8080/"
        },
        "id": "rj08WBeqKKSp",
        "outputId": "c875cf51-e779-44a1-bd79-1afa34ea399b"
      },
      "outputs": [
        {
          "output_type": "stream",
          "name": "stdout",
          "text": [
            "['File15.jpeg', 'File9.jpeg', 'File13.png', 'File18.png', 'File11.png', 'File1.jpeg', 'File14.jpeg', 'File5.png', 'File3.jpeg', 'File7.jpeg', 'File17.jpeg', 'File4.jpeg', 'File8.jpeg', 'File2.png', 'File16.jpeg', 'File10.jpeg', 'File6.jpeg', 'File12.jpeg']\n",
            "18\n"
          ]
        }
      ],
      "source": [
        "folder_path='/content/Alanasana'\n",
        "folder_images=os.listdir(folder_path)\n",
        "print(folder_images)\n",
        "print(len(folder_images))\n",
        "for i in range(18):\n",
        "  img_path=folder_path+'/'+folder_images[i]\n",
        "  img_pillow=Image.open(img_path)\n",
        "  img_color=img_pillow.convert('RGB')\n",
        "  img_resize=img_color.resize((64,64))\n",
        "  img_arr=np.array(img_resize)\n",
        "  data.append([img_arr,2])"
      ]
    },
    {
      "cell_type": "code",
      "execution_count": 9,
      "metadata": {
        "colab": {
          "base_uri": "https://localhost:8080/"
        },
        "id": "NSO9W33GKKV6",
        "outputId": "326d89c8-2736-430e-95ca-670b4a5acf27"
      },
      "outputs": [
        {
          "output_type": "stream",
          "name": "stdout",
          "text": [
            "['File31.png', 'File28.png', 'File70.jpeg', 'File15.png', 'File64.png', 'File26.png', 'File20.png', 'File39.png', 'File37.png', 'File54.png', 'File61.png', 'File47.png', 'File3.png', 'File69.jpeg', 'File52.png', 'File18.jpeg', 'File59.png', 'File68.jpeg', 'File56.png', 'File1.png', 'File35.png', 'File4.png', 'File44.png', 'File43.png', 'File19.png', 'File46.png', 'File13.png', 'File34.png', 'File11.png', 'File41.png', 'File49.png', 'File55.png', 'File40.png', 'File22.png', 'File30.png', 'File33.png', 'File50.png', 'File12.png', 'File63.png', 'File62.png', 'File53.png', 'File51.png', 'File21.png', 'File27.png', 'File5.png', 'File57.png', 'File45.png', 'File24.png', 'File7.png', 'File67.jpeg', 'File38.png', 'File32.png', 'File58.png', 'File17.png', 'File71.jpeg', 'File6.png', 'File2.png', 'File9.png', 'File65.jpeg', 'File29.png', 'File10.png', 'File25.png', 'File8.png', 'File36.png', 'File60.png', 'File48.png', 'File66.jpeg', 'File14.png', 'File16.png', 'File42.png', 'File23.png']\n",
            "71\n"
          ]
        }
      ],
      "source": [
        "folder_path='/content/Anjaneyasana'\n",
        "folder_images=os.listdir(folder_path)\n",
        "print(folder_images)\n",
        "print(len(folder_images))\n",
        "for i in range(71):\n",
        "  img_path=folder_path+'/'+folder_images[i]\n",
        "  img_pillow=Image.open(img_path)\n",
        "  img_color=img_pillow.convert('RGB')\n",
        "  img_resize=img_color.resize((64,64))\n",
        "  img_arr=np.array(img_resize)\n",
        "  data.append([img_arr,3])"
      ]
    },
    {
      "cell_type": "code",
      "execution_count": 10,
      "metadata": {
        "colab": {
          "base_uri": "https://localhost:8080/"
        },
        "id": "1KIHg2_uKKYf",
        "outputId": "44188ad0-dd8f-4720-fa47-99e07545687c"
      },
      "outputs": [
        {
          "output_type": "stream",
          "name": "stdout",
          "text": [
            "['File31.png', 'File28.png', 'File15.png', 'File26.png', 'File20.png', 'File39.png', 'File54.jpeg', 'File37.png', 'File47.png', 'File3.png', 'File52.png', 'File1.png', 'File35.png', 'File4.png', 'File44.png', 'File43.png', 'File19.png', 'File46.png', 'File13.png', 'File34.png', 'File18.png', 'File11.png', 'File41.png', 'File49.png', 'File40.png', 'File22.png', 'File30.png', 'File33.png', 'File50.png', 'File12.png', 'File53.jpeg', 'File55.jpeg', 'File51.png', 'File21.png', 'File59.jpeg', 'File27.png', 'File14.jpeg', 'File56.jpeg', 'File5.png', 'File45.png', 'File24.png', 'File57.jpeg', 'File7.png', 'File38.png', 'File32.png', 'File17.png', 'File6.png', 'File2.png', 'File9.png', 'File29.png', 'File10.png', 'File25.png', 'File8.png', 'File58.jpeg', 'File36.png', 'File48.png', 'File16.png', 'File42.png', 'File23.png']\n",
            "59\n"
          ]
        }
      ],
      "source": [
        "folder_path='/content/Ardha Chandrasana'\n",
        "folder_images=os.listdir(folder_path)\n",
        "print(folder_images)\n",
        "print(len(folder_images))\n",
        "for i in range(59):\n",
        "  img_path=folder_path+'/'+folder_images[i]\n",
        "  img_pillow=Image.open(img_path)\n",
        "  img_color=img_pillow.convert('RGB')\n",
        "  img_resize=img_color.resize((64,64))\n",
        "  img_arr=np.array(img_resize)\n",
        "  data.append([img_arr,4])"
      ]
    },
    {
      "cell_type": "code",
      "execution_count": 11,
      "metadata": {
        "colab": {
          "base_uri": "https://localhost:8080/"
        },
        "id": "TZxRlnaWKKdI",
        "outputId": "127ba409-a577-4c55-8d83-58aff5ba792b"
      },
      "outputs": [
        {
          "output_type": "stream",
          "name": "stdout",
          "text": [
            "['File31.png', 'File28.png', 'File15.png', 'File64.png', 'File26.png', 'File20.png', 'File39.png', 'File84.png', 'File37.png', 'File54.png', 'File61.png', 'File47.png', 'File3.png', 'File52.png', 'File81.png', 'File75.png', 'File73.png', 'File59.png', 'File56.png', 'File68.png', 'File94.jpeg', 'File1.png', 'File95.jpeg', 'File35.png', 'File4.png', 'File44.png', 'File43.png', 'File19.png', 'File46.png', 'File13.png', 'File34.png', 'File18.png', 'File90.png', 'File11.png', 'File41.png', 'File49.png', 'File87.png', 'File55.png', 'File40.png', 'File70.png', 'File22.png', 'File30.png', 'File33.png', 'File50.png', 'File12.png', 'File85.png', 'File63.png', 'File62.png', 'File91.jpeg', 'File53.png', 'File51.png', 'File21.png', 'File76.png', 'File27.png', 'File80.png', 'File5.png', 'File57.png', 'File45.png', 'File86.png', 'File83.png', 'File24.png', 'File7.png', 'File82.png', 'File69.png', 'File88.png', 'File38.png', 'File78.png', 'File32.png', 'File58.png', 'File89.png', 'File79.png', 'File17.png', 'File92.jpeg', 'File6.png', 'File66.png', 'File2.png', 'File9.png', 'File29.png', 'File10.png', 'File72.png', 'File25.png', 'File67.png', 'File8.png', 'File36.png', 'File60.png', 'File96.jpeg', 'File48.png', 'File77.png', 'File65.png', 'File74.png', 'File14.png', 'File93.jpeg', 'File16.png', 'File42.png', 'File71.png', 'File23.png']\n",
            "96\n"
          ]
        }
      ],
      "source": [
        "folder_path='/content/Ardha Matsyendrasana'\n",
        "folder_images=os.listdir(folder_path)\n",
        "print(folder_images)\n",
        "print(len(folder_images))\n",
        "for i in range(96):\n",
        "  img_path=folder_path+'/'+folder_images[i]\n",
        "  img_pillow=Image.open(img_path)\n",
        "  img_color=img_pillow.convert('RGB')\n",
        "  img_resize=img_color.resize((64,64))\n",
        "  img_arr=np.array(img_resize)\n",
        "  data.append([img_arr,5])"
      ]
    },
    {
      "cell_type": "code",
      "execution_count": 12,
      "metadata": {
        "colab": {
          "base_uri": "https://localhost:8080/"
        },
        "id": "u-dHyuOkKKgU",
        "outputId": "4d6e86ac-9c88-47e9-cfc1-f77701bfcf6d"
      },
      "outputs": [
        {
          "output_type": "stream",
          "name": "stdout",
          "text": [
            "['File9.jpeg', 'File1.jpeg', 'File11.jpeg', 'File12.png', 'File5.jpeg', 'File3.jpeg', 'File7.jpeg', 'File4.jpeg', 'File2.png', 'File13.jpg', 'File8.png', 'File10.jpeg', 'File6.jpeg']\n",
            "13\n"
          ]
        }
      ],
      "source": [
        "folder_path='/content/Ardha Navasana'\n",
        "folder_images=os.listdir(folder_path)\n",
        "print(folder_images)\n",
        "print(len(folder_images))\n",
        "for i in range(13):\n",
        "  img_path=folder_path+'/'+folder_images[i]\n",
        "  img_pillow=Image.open(img_path)\n",
        "  img_color=img_pillow.convert('RGB')\n",
        "  img_resize=img_color.resize((64,64))\n",
        "  img_arr=np.array(img_resize)\n",
        "  data.append([img_arr,6])"
      ]
    },
    {
      "cell_type": "code",
      "execution_count": 13,
      "metadata": {
        "colab": {
          "base_uri": "https://localhost:8080/"
        },
        "id": "HGTUQDOmKKmB",
        "outputId": "7b47088a-f304-4cd5-94d6-b92d87976f57"
      },
      "outputs": [
        {
          "output_type": "stream",
          "name": "stdout",
          "text": [
            "['File31.png', 'File28.png', 'File15.png', 'File26.png', 'File20.png', 'File39.png', 'File37.png', 'File54.png', 'File47.png', 'File3.png', 'File50.jpeg', 'File1.png', 'File35.png', 'File4.png', 'File44.png', 'File43.png', 'File19.png', 'File46.png', 'File13.png', 'File34.png', 'File18.png', 'File11.png', 'File41.png', 'File49.png', 'File40.png', 'File22.png', 'File48.jpeg', 'File30.png', 'File33.png', 'File12.png', 'File53.jpeg', 'File52.jpeg', 'File21.png', 'File27.png', 'File51.jpeg', 'File5.png', 'File45.png', 'File24.png', 'File7.png', 'File38.png', 'File32.png', 'File17.png', 'File6.png', 'File2.png', 'File9.png', 'File29.png', 'File10.png', 'File25.png', 'File8.png', 'File36.png', 'File14.png', 'File16.png', 'File42.png', 'File23.png']\n",
            "54\n"
          ]
        }
      ],
      "source": [
        "folder_path='/content/Ardha Pincha Mayurasana'\n",
        "folder_images=os.listdir(folder_path)\n",
        "print(folder_images)\n",
        "print(len(folder_images))\n",
        "for i in range(54):\n",
        "  img_path=folder_path+'/'+folder_images[i]\n",
        "  img_pillow=Image.open(img_path)\n",
        "  img_color=img_pillow.convert('RGB')\n",
        "  img_resize=img_color.resize((64,64))\n",
        "  img_arr=np.array(img_resize)\n",
        "  data.append([img_arr,7])"
      ]
    },
    {
      "cell_type": "code",
      "execution_count": 14,
      "metadata": {
        "colab": {
          "base_uri": "https://localhost:8080/"
        },
        "id": "NfaVXHgfKKpJ",
        "outputId": "d055dda8-024d-43b9-b6b0-d1a4a3f1be29"
      },
      "outputs": [
        {
          "output_type": "stream",
          "name": "stdout",
          "text": [
            "['File9.jpeg', 'File1.jpeg', 'File11.jpeg', 'File12.png', 'File5.jpeg', 'File3.jpeg', 'File7.jpeg', 'File4.jpeg', 'File8.png', 'File2.jpeg', 'File10.jpeg', 'File6.jpeg']\n",
            "12\n"
          ]
        }
      ],
      "source": [
        "folder_path='/content/Ashta Chandrasana'\n",
        "folder_images=os.listdir(folder_path)\n",
        "print(folder_images)\n",
        "print(len(folder_images))\n",
        "for i in range(12):\n",
        "  img_path=folder_path+'/'+folder_images[i]\n",
        "  img_pillow=Image.open(img_path)\n",
        "  img_color=img_pillow.convert('RGB')\n",
        "  img_resize=img_color.resize((64,64))\n",
        "  img_arr=np.array(img_resize)\n",
        "  data.append([img_arr,8])"
      ]
    },
    {
      "cell_type": "code",
      "execution_count": 15,
      "metadata": {
        "colab": {
          "base_uri": "https://localhost:8080/"
        },
        "id": "G91jigo0KKr6",
        "outputId": "485ccc51-4d41-4b85-a2ff-11344d8b55cd"
      },
      "outputs": [
        {
          "output_type": "stream",
          "name": "stdout",
          "text": [
            "['File31.png', 'File28.png', 'File15.png', 'File64.png', 'File26.png', 'File20.png', 'File39.png', 'File37.png', 'File54.png', 'File61.png', 'File47.png', 'File3.png', 'File52.png', 'File81.png', 'File72.jpeg', 'File56.png', 'File68.png', 'File49.jpg', 'File78.jpeg', 'File1.png', 'File35.png', 'File4.png', 'File44.png', 'File43.png', 'File19.png', 'File46.png', 'File13.png', 'File34.png', 'File18.png', 'File77.jpeg', 'File11.png', 'File41.png', 'File55.png', 'File40.png', 'File70.png', 'File22.png', 'File30.png', 'File33.png', 'File59.jpg', 'File50.png', 'File74.jpeg', 'File73.jpeg', 'File12.png', 'File63.png', 'File62.png', 'File53.png', 'File51.png', 'File79.jpeg', 'File27.png', 'File5.png', 'File57.png', 'File45.png', 'File24.png', 'File7.png', 'File69.png', 'File38.png', 'File32.png', 'File58.png', 'File17.png', 'File71.jpeg', 'File80.jpeg', 'File6.png', 'File66.png', 'File2.png', 'File21.jpg', 'File9.png', 'File29.png', 'File10.png', 'File25.png', 'File67.png', 'File8.png', 'File36.png', 'File60.png', 'File48.png', 'File75.jpeg', 'File65.png', 'File14.png', 'File16.png', 'File42.jpg', 'File76.jpeg', 'File23.png']\n",
            "81\n"
          ]
        }
      ],
      "source": [
        "folder_path='/content/Baddha Konasana'\n",
        "folder_images=os.listdir(folder_path)\n",
        "print(folder_images)\n",
        "print(len(folder_images))\n",
        "for i in range(81):\n",
        "  img_path=folder_path+'/'+folder_images[i]\n",
        "  img_pillow=Image.open(img_path)\n",
        "  img_color=img_pillow.convert('RGB')\n",
        "  img_resize=img_color.resize((64,64))\n",
        "  img_arr=np.array(img_resize)\n",
        "  data.append([img_arr,9])"
      ]
    },
    {
      "cell_type": "code",
      "execution_count": 16,
      "metadata": {
        "colab": {
          "base_uri": "https://localhost:8080/"
        },
        "id": "PvniUye0KKuc",
        "outputId": "73391472-9100-4677-883b-589ee08953a0"
      },
      "outputs": [
        {
          "output_type": "stream",
          "name": "stdout",
          "text": [
            "['File31.png', 'File28.png', 'File15.png', 'File64.png', 'File26.png', 'File20.png', 'File39.png', 'File84.png', 'File37.png', 'File54.png', 'File61.png', 'File47.png', 'File3.png', 'File52.png', 'File75.png', 'File73.png', 'File59.png', 'File56.png', 'File68.png', 'File78.jpeg', 'File1.png', 'File35.png', 'File4.png', 'File44.png', 'File43.png', 'File19.png', 'File46.png', 'File13.png', 'File34.png', 'File18.png', 'File11.png', 'File41.png', 'File49.png', 'File55.png', 'File40.png', 'File70.png', 'File22.png', 'File81.jpeg', 'File30.png', 'File33.png', 'File50.png', 'File12.png', 'File63.png', 'File62.png', 'File53.png', 'File51.png', 'File21.png', 'File79.jpeg', 'File76.png', 'File27.png', 'File82.jpeg', 'File5.png', 'File57.png', 'File45.png', 'File83.jpeg', 'File24.png', 'File7.png', 'File69.png', 'File38.png', 'File32.png', 'File58.png', 'File17.png', 'File80.jpeg', 'File6.png', 'File66.png', 'File2.png', 'File9.png', 'File29.png', 'File10.png', 'File72.png', 'File25.png', 'File67.png', 'File8.png', 'File36.png', 'File60.png', 'File48.png', 'File77.png', 'File65.png', 'File74.png', 'File14.png', 'File16.png', 'File42.png', 'File71.png', 'File23.png']\n",
            "84\n"
          ]
        }
      ],
      "source": [
        "folder_path='/content/Bakasana'\n",
        "folder_images=os.listdir(folder_path)\n",
        "print(folder_images)\n",
        "print(len(folder_images))\n",
        "for i in range(84):\n",
        "  img_path=folder_path+'/'+folder_images[i]\n",
        "  img_pillow=Image.open(img_path)\n",
        "  img_color=img_pillow.convert('RGB')\n",
        "  img_resize=img_color.resize((64,64))\n",
        "  img_arr=np.array(img_resize)\n",
        "  data.append([img_arr,10])"
      ]
    },
    {
      "cell_type": "code",
      "execution_count": 17,
      "metadata": {
        "colab": {
          "base_uri": "https://localhost:8080/"
        },
        "id": "B-I-3o8pKKw5",
        "outputId": "c73f97b7-6a9a-4167-a809-95515a99d655"
      },
      "outputs": [
        {
          "output_type": "stream",
          "name": "stdout",
          "text": [
            "['File31.png', 'File28.png', 'File15.png', 'File64.png', 'File26.png', 'File20.png', 'File39.png', 'File37.png', 'File54.png', 'File61.png', 'File47.png', 'File3.png', 'File72.jpeg', 'File59.png', 'File56.png', 'File68.png', 'File78.jpeg', 'File1.png', 'File35.png', 'File4.png', 'File44.png', 'File43.png', 'File19.png', 'File46.png', 'File13.png', 'File34.png', 'File18.png', 'File77.jpeg', 'File11.png', 'File41.png', 'File49.png', 'File55.png', 'File40.png', 'File70.png', 'File22.png', 'File30.png', 'File33.png', 'File50.png', 'File74.jpeg', 'File73.jpeg', 'File12.png', 'File45.jpg', 'File63.png', 'File53.png', 'File51.png', 'File21.png', 'File79.jpeg', 'File27.png', 'File5.png', 'File57.png', 'File24.png', 'File7.png', 'File69.png', 'File38.png', 'File32.png', 'File58.png', 'File17.png', 'File6.png', 'File66.png', 'File52.jpg', 'File2.png', 'File9.png', 'File29.png', 'File10.png', 'File25.png', 'File67.png', 'File8.png', 'File36.png', 'File60.png', 'File48.png', 'File75.jpeg', 'File62.jpg', 'File65.png', 'File14.png', 'File16.png', 'File42.png', 'File71.png', 'File76.jpeg', 'File23.png']\n",
            "79\n"
          ]
        }
      ],
      "source": [
        "folder_path='/content/Balasana'\n",
        "folder_images=os.listdir(folder_path)\n",
        "print(folder_images)\n",
        "print(len(folder_images))\n",
        "for i in range(79):\n",
        "  img_path=folder_path+'/'+folder_images[i]\n",
        "  img_pillow=Image.open(img_path)\n",
        "  img_color=img_pillow.convert('RGB')\n",
        "  img_resize=img_color.resize((64,64))\n",
        "  img_arr=np.array(img_resize)\n",
        "  data.append([img_arr,11])"
      ]
    },
    {
      "cell_type": "code",
      "execution_count": 18,
      "metadata": {
        "colab": {
          "base_uri": "https://localhost:8080/"
        },
        "id": "tLvLzuN7KKzS",
        "outputId": "0ed44ed3-0ab2-4b4a-daca-8514aed4bab0"
      },
      "outputs": [
        {
          "output_type": "stream",
          "name": "stdout",
          "text": [
            "['File31.png', 'File28.png', 'File89.jpeg', 'File15.png', 'File64.png', 'File26.png', 'File20.png', 'File39.png', 'File84.png', 'File37.png', 'File54.png', 'File61.png', 'File47.png', 'File3.png', 'File52.png', 'File81.png', 'File75.png', 'File73.png', 'File59.png', 'File56.png', 'File68.png', 'File1.png', 'File35.png', 'File4.png', 'File44.png', 'File43.png', 'File19.png', 'File46.png', 'File13.png', 'File34.png', 'File18.png', 'File11.png', 'File41.png', 'File49.png', 'File87.png', 'File55.png', 'File40.png', 'File70.png', 'File22.png', 'File30.png', 'File33.png', 'File50.png', 'File12.png', 'File85.png', 'File63.png', 'File62.png', 'File91.jpeg', 'File53.png', 'File51.png', 'File21.png', 'File94.png', 'File76.png', 'File27.png', 'File80.png', 'File5.png', 'File57.png', 'File45.png', 'File86.png', 'File83.png', 'File24.png', 'File7.png', 'File82.png', 'File69.png', 'File38.png', 'File78.png', 'File32.png', 'File58.png', 'File79.png', 'File17.png', 'File92.jpeg', 'File6.png', 'File66.png', 'File2.png', 'File9.png', 'File29.png', 'File10.png', 'File72.png', 'File25.png', 'File67.png', 'File8.png', 'File36.png', 'File60.png', 'File48.png', 'File77.png', 'File90.jpeg', 'File65.png', 'File74.png', 'File88.jpeg', 'File14.png', 'File93.jpeg', 'File16.png', 'File42.png', 'File71.png', 'File23.png']\n",
            "94\n"
          ]
        }
      ],
      "source": [
        "folder_path='/content/Bitilasana'\n",
        "folder_images=os.listdir(folder_path)\n",
        "print(folder_images)\n",
        "print(len(folder_images))\n",
        "for i in range(94):\n",
        "  img_path=folder_path+'/'+folder_images[i]\n",
        "  img_pillow=Image.open(img_path)\n",
        "  img_color=img_pillow.convert('RGB')\n",
        "  img_resize=img_color.resize((64,64))\n",
        "  img_arr=np.array(img_resize)\n",
        "  data.append([img_arr,12])"
      ]
    },
    {
      "cell_type": "code",
      "execution_count": 19,
      "metadata": {
        "colab": {
          "base_uri": "https://localhost:8080/"
        },
        "id": "D2sB0ktUKK1I",
        "outputId": "ecf9a4c9-10c8-42ae-dbf1-39afad5f5b16"
      },
      "outputs": [
        {
          "output_type": "stream",
          "name": "stdout",
          "text": [
            "['File31.png', 'File28.png', 'File15.png', 'File62.jpeg', 'File26.png', 'File20.png', 'File39.png', 'File37.png', 'File54.png', 'File47.png', 'File3.png', 'File52.png', 'File1.png', 'File35.png', 'File4.png', 'File44.png', 'File43.png', 'File19.png', 'File46.png', 'File13.png', 'File34.png', 'File18.png', 'File11.png', 'File41.png', 'File49.png', 'File40.png', 'File22.png', 'File30.png', 'File33.png', 'File50.png', 'File12.png', 'File55.jpeg', 'File53.png', 'File51.png', 'File21.png', 'File59.jpeg', 'File27.png', 'File56.jpeg', 'File5.png', 'File45.png', 'File24.png', 'File57.jpeg', 'File7.png', 'File38.png', 'File32.png', 'File17.png', 'File6.png', 'File2.png', 'File9.png', 'File29.png', 'File10.png', 'File25.png', 'File8.png', 'File58.jpeg', 'File36.png', 'File48.png', 'File60.jpeg', 'File14.png', 'File16.png', 'File42.png', 'File61.jpeg', 'File23.png']\n",
            "62\n"
          ]
        }
      ],
      "source": [
        "folder_path='/content/Camatkarasana'\n",
        "folder_images=os.listdir(folder_path)\n",
        "print(folder_images)\n",
        "print(len(folder_images))\n",
        "for i in range(62):\n",
        "  img_path=folder_path+'/'+folder_images[i]\n",
        "  img_pillow=Image.open(img_path)\n",
        "  img_color=img_pillow.convert('RGB')\n",
        "  img_resize=img_color.resize((64,64))\n",
        "  img_arr=np.array(img_resize)\n",
        "  data.append([img_arr,13])"
      ]
    },
    {
      "cell_type": "code",
      "execution_count": 20,
      "metadata": {
        "colab": {
          "base_uri": "https://localhost:8080/"
        },
        "id": "Gns14yZJKK6L",
        "outputId": "2701e387-6e54-442d-88ab-647b9c2a82a3"
      },
      "outputs": [
        {
          "output_type": "stream",
          "name": "stdout",
          "text": [
            "['File31.png', 'File28.png', 'File15.png', 'File26.png', 'File20.png', 'File39.png', 'File37.png', 'File54.png', 'File3.png', 'File50.jpeg', 'File1.png', 'File35.png', 'File4.png', 'File44.png', 'File43.png', 'File19.png', 'File46.png', 'File13.png', 'File34.png', 'File18.png', 'File11.png', 'File41.png', 'File40.png', 'File48.jpeg', 'File30.png', 'File33.png', 'File22.jpeg', 'File47.jpeg', 'File12.png', 'File53.jpeg', 'File52.jpeg', 'File21.png', 'File27.png', 'File51.jpeg', 'File5.png', 'File45.png', 'File24.png', 'File7.png', 'File38.png', 'File32.png', 'File17.png', 'File6.png', 'File2.png', 'File9.png', 'File29.png', 'File10.png', 'File25.png', 'File8.png', 'File36.png', 'File14.png', 'File16.png', 'File42.png', 'File49.jpeg', 'File23.png']\n",
            "54\n"
          ]
        }
      ],
      "source": [
        "folder_path='/content/Dhanurasana'\n",
        "folder_images=os.listdir(folder_path)\n",
        "print(folder_images)\n",
        "print(len(folder_images))\n",
        "for i in range(54):\n",
        "  img_path=folder_path+'/'+folder_images[i]\n",
        "  img_pillow=Image.open(img_path)\n",
        "  img_color=img_pillow.convert('RGB')\n",
        "  img_resize=img_color.resize((64,64))\n",
        "  img_arr=np.array(img_resize)\n",
        "  data.append([img_arr,14])"
      ]
    },
    {
      "cell_type": "code",
      "execution_count": 21,
      "metadata": {
        "colab": {
          "base_uri": "https://localhost:8080/"
        },
        "id": "e27kN-UMKK9J",
        "outputId": "4813962b-eaca-4d50-b843-c5ad017de830"
      },
      "outputs": [
        {
          "output_type": "stream",
          "name": "stdout",
          "text": [
            "['File31.png', 'File28.png', 'File15.png', 'File26.png', 'File20.png', 'File39.png', 'File37.png', 'File3.png', 'File50.jpeg', 'File1.png', 'File35.png', 'File4.png', 'File44.png', 'File43.png', 'File19.png', 'File13.png', 'File34.png', 'File18.png', 'File11.png', 'File41.png', 'File40.png', 'File22.png', 'File48.jpeg', 'File30.png', 'File33.png', 'File47.jpeg', 'File12.png', 'File53.jpeg', 'File52.jpeg', 'File21.png', 'File27.png', 'File51.jpeg', 'File5.png', 'File46.jpeg', 'File24.png', 'File7.png', 'File38.png', 'File32.png', 'File17.png', 'File6.png', 'File2.png', 'File9.png', 'File29.png', 'File10.png', 'File25.png', 'File8.png', 'File36.png', 'File45.jpeg', 'File14.png', 'File16.png', 'File42.png', 'File49.jpeg', 'File23.png']\n",
            "53\n"
          ]
        }
      ],
      "source": [
        "folder_path='/content/Eka Pada Rajakapotasana'\n",
        "folder_images=os.listdir(folder_path)\n",
        "print(folder_images)\n",
        "print(len(folder_images))\n",
        "for i in range(53):\n",
        "  img_path=folder_path+'/'+folder_images[i]\n",
        "  img_pillow=Image.open(img_path)\n",
        "  img_color=img_pillow.convert('RGB')\n",
        "  img_resize=img_color.resize((64,64))\n",
        "  img_arr=np.array(img_resize)\n",
        "  data.append([img_arr,15])"
      ]
    },
    {
      "cell_type": "code",
      "execution_count": 22,
      "metadata": {
        "colab": {
          "base_uri": "https://localhost:8080/"
        },
        "id": "A9pzgWgiKK_p",
        "outputId": "db5ca480-7535-4179-c3d2-5360dbc659dc"
      },
      "outputs": [
        {
          "output_type": "stream",
          "name": "stdout",
          "text": [
            "['File31.png', 'File28.png', 'File15.png', 'File64.png', 'File26.png', 'File20.png', 'File39.png', 'File37.png', 'File54.png', 'File61.png', 'File47.png', 'File3.png', 'File52.png', 'File75.png', 'File73.png', 'File59.png', 'File56.png', 'File68.png', 'File1.png', 'File35.png', 'File4.png', 'File44.png', 'File43.png', 'File19.png', 'File46.png', 'File13.png', 'File34.png', 'File18.png', 'File11.png', 'File41.png', 'File49.png', 'File55.png', 'File40.png', 'File70.png', 'File22.png', 'File81.jpeg', 'File30.png', 'File33.png', 'File50.png', 'File12.png', 'File63.png', 'File62.png', 'File53.png', 'File51.png', 'File21.png', 'File79.jpeg', 'File76.png', 'File27.png', 'File85.jpeg', 'File82.jpeg', 'File5.png', 'File57.png', 'File45.png', 'File83.jpeg', 'File24.png', 'File7.png', 'File69.png', 'File38.png', 'File78.png', 'File32.png', 'File58.png', 'File17.png', 'File80.jpeg', 'File6.png', 'File66.png', 'File2.png', 'File9.png', 'File29.png', 'File10.png', 'File72.png', 'File25.png', 'File67.png', 'File8.png', 'File84.jpeg', 'File36.png', 'File60.png', 'File48.png', 'File77.png', 'File65.png', 'File74.png', 'File14.png', 'File16.png', 'File42.png', 'File71.png', 'File23.png']\n",
            "85\n"
          ]
        }
      ],
      "source": [
        "folder_path='/content/Garudasana'\n",
        "folder_images=os.listdir(folder_path)\n",
        "print(folder_images)\n",
        "print(len(folder_images))\n",
        "for i in range(85):\n",
        "  img_path=folder_path+'/'+folder_images[i]\n",
        "  img_pillow=Image.open(img_path)\n",
        "  img_color=img_pillow.convert('RGB')\n",
        "  img_resize=img_color.resize((64,64))\n",
        "  img_arr=np.array(img_resize)\n",
        "  data.append([img_arr,16])"
      ]
    },
    {
      "cell_type": "code",
      "execution_count": 23,
      "metadata": {
        "colab": {
          "base_uri": "https://localhost:8080/"
        },
        "id": "mZUjmdlmKLCf",
        "outputId": "1ea0a456-a29c-457c-acd7-c088c9142c11"
      },
      "outputs": [
        {
          "output_type": "stream",
          "name": "stdout",
          "text": [
            "['File31.png', 'File28.png', 'File70.jpeg', 'File15.png', 'File64.png', 'File26.png', 'File20.png', 'File39.png', 'File37.png', 'File54.png', 'File61.png', 'File47.png', 'File3.png', 'File69.jpeg', 'File52.png', 'File59.png', 'File68.jpeg', 'File56.png', 'File1.png', 'File35.png', 'File4.png', 'File44.png', 'File43.png', 'File19.png', 'File46.png', 'File13.png', 'File34.png', 'File18.png', 'File11.png', 'File41.png', 'File49.png', 'File55.png', 'File40.png', 'File22.png', 'File30.png', 'File33.png', 'File50.png', 'File12.png', 'File63.png', 'File62.png', 'File53.png', 'File51.png', 'File21.png', 'File27.png', 'File5.png', 'File57.png', 'File45.png', 'File24.png', 'File7.png', 'File67.jpeg', 'File38.png', 'File32.png', 'File58.png', 'File17.png', 'File71.jpeg', 'File6.png', 'File66.png', 'File2.png', 'File9.png', 'File29.png', 'File10.png', 'File25.png', 'File8.png', 'File36.png', 'File60.png', 'File48.png', 'File65.png', 'File14.png', 'File16.png', 'File42.png', 'File23.png']\n",
            "71\n"
          ]
        }
      ],
      "source": [
        "folder_path='/content/Halasana'\n",
        "folder_images=os.listdir(folder_path)\n",
        "print(folder_images)\n",
        "print(len(folder_images))\n",
        "for i in range(71):\n",
        "  img_path=folder_path+'/'+folder_images[i]\n",
        "  img_pillow=Image.open(img_path)\n",
        "  img_color=img_pillow.convert('RGB')\n",
        "  img_resize=img_color.resize((64,64))\n",
        "  img_arr=np.array(img_resize)\n",
        "  data.append([img_arr,17])"
      ]
    },
    {
      "cell_type": "code",
      "execution_count": 24,
      "metadata": {
        "colab": {
          "base_uri": "https://localhost:8080/"
        },
        "id": "RQmgDum4KLFh",
        "outputId": "71501e5e-92f8-4688-8aa4-efe4e9b7b5ef"
      },
      "outputs": [
        {
          "output_type": "stream",
          "name": "stdout",
          "text": [
            "['File31.png', 'File28.png', 'File15.png', 'File26.png', 'File20.png', 'File3.png', 'File40.jpeg', 'File38.jpeg', 'File1.png', 'File35.png', 'File4.png', 'File19.png', 'File13.png', 'File34.png', 'File18.png', 'File11.png', 'File22.png', 'File30.png', 'File33.png', 'File12.png', 'File37.jpeg', 'File36.jpeg', 'File21.png', 'File27.png', 'File39.jpeg', 'File5.png', 'File24.png', 'File7.png', 'File32.png', 'File17.png', 'File6.png', 'File2.png', 'File9.png', 'File29.png', 'File10.png', 'File25.png', 'File8.png', 'File41.jpeg', 'File14.png', 'File16.png', 'File23.png']\n",
            "41\n"
          ]
        }
      ],
      "source": [
        "folder_path='/content/Hanumanasana'\n",
        "folder_images=os.listdir(folder_path)\n",
        "print(folder_images)\n",
        "print(len(folder_images))\n",
        "for i in range(41):\n",
        "  img_path=folder_path+'/'+folder_images[i]\n",
        "  img_pillow=Image.open(img_path)\n",
        "  img_color=img_pillow.convert('RGB')\n",
        "  img_resize=img_color.resize((64,64))\n",
        "  img_arr=np.array(img_resize)\n",
        "  data.append([img_arr,18])"
      ]
    },
    {
      "cell_type": "code",
      "execution_count": 25,
      "metadata": {
        "colab": {
          "base_uri": "https://localhost:8080/"
        },
        "id": "WqKmI-3AKLHk",
        "outputId": "2ca9fdc9-f574-4673-bf8b-818e72da4f7f"
      },
      "outputs": [
        {
          "output_type": "stream",
          "name": "stdout",
          "text": [
            "['File31.png', 'File28.png', 'File70.jpeg', 'File15.png', 'File64.png', 'File26.png', 'File20.png', 'File39.png', 'File37.png', 'File54.png', 'File61.png', 'File47.png', 'File3.png', 'File69.jpeg', 'File52.png', 'File72.jpeg', 'File59.png', 'File56.png', 'File68.png', 'File1.png', 'File35.png', 'File4.png', 'File44.png', 'File43.png', 'File19.png', 'File46.png', 'File13.png', 'File34.png', 'File18.png', 'File11.png', 'File41.png', 'File49.png', 'File55.png', 'File40.png', 'File22.png', 'File30.png', 'File33.png', 'File50.png', 'File73.jpeg', 'File12.png', 'File63.png', 'File62.png', 'File53.png', 'File51.png', 'File21.png', 'File27.png', 'File5.png', 'File57.png', 'File45.png', 'File24.png', 'File7.png', 'File38.png', 'File32.png', 'File58.png', 'File17.png', 'File71.jpeg', 'File6.png', 'File66.png', 'File2.png', 'File9.png', 'File29.png', 'File10.png', 'File25.png', 'File67.png', 'File8.png', 'File36.png', 'File60.png', 'File48.png', 'File65.png', 'File14.png', 'File16.png', 'File42.png', 'File23.png']\n",
            "73\n"
          ]
        }
      ],
      "source": [
        "folder_path='/content/Malasana'\n",
        "folder_images=os.listdir(folder_path)\n",
        "print(folder_images)\n",
        "print(len(folder_images))\n",
        "for i in range(73):\n",
        "  img_path=folder_path+'/'+folder_images[i]\n",
        "  img_pillow=Image.open(img_path)\n",
        "  img_color=img_pillow.convert('RGB')\n",
        "  img_resize=img_color.resize((64,64))\n",
        "  img_arr=np.array(img_resize)\n",
        "  data.append([img_arr,19])"
      ]
    },
    {
      "cell_type": "code",
      "execution_count": 26,
      "metadata": {
        "colab": {
          "base_uri": "https://localhost:8080/"
        },
        "id": "_Tvv9HafKLKN",
        "outputId": "049d2ab6-813b-4211-8d31-b08baf348529"
      },
      "outputs": [
        {
          "output_type": "stream",
          "name": "stdout",
          "text": [
            "['File31.png', 'File28.png', 'File15.png', 'File26.png', 'File20.png', 'File39.png', 'File54.jpeg', 'File37.png', 'File3.png', 'File56.png', 'File50.jpeg', 'File1.png', 'File35.png', 'File4.png', 'File44.png', 'File43.png', 'File19.png', 'File46.png', 'File13.png', 'File34.png', 'File18.png', 'File11.png', 'File41.png', 'File40.png', 'File22.png', 'File48.jpeg', 'File30.png', 'File33.png', 'File47.jpeg', 'File12.png', 'File53.jpeg', 'File52.jpeg', 'File55.jpeg', 'File21.png', 'File27.png', 'File51.jpeg', 'File5.png', 'File45.png', 'File24.png', 'File7.png', 'File38.png', 'File32.png', 'File17.png', 'File6.png', 'File2.png', 'File9.png', 'File29.png', 'File10.png', 'File25.png', 'File8.png', 'File36.png', 'File14.png', 'File16.png', 'File42.png', 'File49.jpeg', 'File23.png']\n",
            "56\n"
          ]
        }
      ],
      "source": [
        "folder_path='/content/Marjaryasana'\n",
        "folder_images=os.listdir(folder_path)\n",
        "print(folder_images)\n",
        "print(len(folder_images))\n",
        "for i in range(56):\n",
        "  img_path=folder_path+'/'+folder_images[i]\n",
        "  img_pillow=Image.open(img_path)\n",
        "  img_color=img_pillow.convert('RGB')\n",
        "  img_resize=img_color.resize((64,64))\n",
        "  img_arr=np.array(img_resize)\n",
        "  data.append([img_arr,20])"
      ]
    },
    {
      "cell_type": "code",
      "execution_count": 27,
      "metadata": {
        "colab": {
          "base_uri": "https://localhost:8080/"
        },
        "id": "Ye_xnIymKLMw",
        "outputId": "47e1a54f-9cdb-4944-ce05-cea67d1a0dca"
      },
      "outputs": [
        {
          "output_type": "stream",
          "name": "stdout",
          "text": [
            "['File15.jpeg', 'File9.jpeg', 'File18.jpeg', 'File1.jpeg', 'File11.jpeg', 'File5.jpeg', 'File14.jpeg', 'File3.jpeg', 'File7.jpeg', 'File17.jpeg', 'File4.jpeg', 'File8.jpeg', 'File16.jpeg', 'File2.jpeg', 'File10.jpeg', 'File6.jpeg', 'File12.jpeg', 'File13.jpeg']\n",
            "18\n"
          ]
        }
      ],
      "source": [
        "folder_path='/content/Navasana'\n",
        "folder_images=os.listdir(folder_path)\n",
        "print(folder_images)\n",
        "print(len(folder_images))\n",
        "for i in range(18):\n",
        "  img_path=folder_path+'/'+folder_images[i]\n",
        "  img_pillow=Image.open(img_path)\n",
        "  img_color=img_pillow.convert('RGB')\n",
        "  img_resize=img_color.resize((64,64))\n",
        "  img_arr=np.array(img_resize)\n",
        "  data.append([img_arr,21])"
      ]
    },
    {
      "cell_type": "code",
      "execution_count": 28,
      "metadata": {
        "colab": {
          "base_uri": "https://localhost:8080/"
        },
        "id": "AEguoMeYKLPL",
        "outputId": "fb080d5a-69eb-47d4-be18-d7dd43c6a3f0"
      },
      "outputs": [
        {
          "output_type": "stream",
          "name": "stdout",
          "text": [
            "['File31.png', 'File28.png', 'File70.jpeg', 'File15.png', 'File64.png', 'File26.png', 'File20.png', 'File43.jpg', 'File39.png', 'File37.png', 'File61.png', 'File47.png', 'File3.png', 'File69.jpeg', 'File52.png', 'File72.jpeg', 'File59.png', 'File56.png', 'File68.png', 'File1.png', 'File35.png', 'File4.png', 'File44.png', 'File19.png', 'File46.png', 'File13.png', 'File34.png', 'File18.png', 'File77.jpeg', 'File11.png', 'File41.png', 'File49.png', 'File55.png', 'File40.png', 'File22.png', 'File54.jpg', 'File30.png', 'File33.png', 'File50.png', 'File74.jpeg', 'File73.jpeg', 'File67.jpg', 'File63.png', 'File12.jpg', 'File62.png', 'File51.png', 'File21.png', 'File66.jpg', 'File27.png', 'File5.png', 'File57.png', 'File45.png', 'File24.png', 'File7.png', 'File38.png', 'File32.png', 'File58.png', 'File17.png', 'File71.jpeg', 'File6.png', 'File2.png', 'File9.png', 'File29.png', 'File25.png', 'File8.png', 'File36.png', 'File60.png', 'File48.png', 'File75.jpeg', 'File65.png', 'File10.jpeg', 'File14.png', 'File16.png', 'File42.png', 'File53.jpg', 'File76.jpeg', 'File23.png']\n",
            "77\n"
          ]
        }
      ],
      "source": [
        "folder_path='/content/Padmasana'\n",
        "folder_images=os.listdir(folder_path)\n",
        "print(folder_images)\n",
        "print(len(folder_images))\n",
        "for i in range(77):\n",
        "  img_path=folder_path+'/'+folder_images[i]\n",
        "  img_pillow=Image.open(img_path)\n",
        "  img_color=img_pillow.convert('RGB')\n",
        "  img_resize=img_color.resize((64,64))\n",
        "  img_arr=np.array(img_resize)\n",
        "  data.append([img_arr,22])"
      ]
    },
    {
      "cell_type": "code",
      "execution_count": 29,
      "metadata": {
        "colab": {
          "base_uri": "https://localhost:8080/"
        },
        "id": "B3QD9ZSEKLRv",
        "outputId": "d734b478-2dea-49e9-e41f-ec7a6be70162"
      },
      "outputs": [
        {
          "output_type": "stream",
          "name": "stdout",
          "text": [
            "['File9.jpeg', 'File1.jpeg', 'File11.jpeg', 'File5.jpeg', 'File14.jpeg', 'File3.jpeg', 'File7.jpeg', 'File4.jpeg', 'File8.jpeg', 'File2.jpeg', 'File10.jpeg', 'File6.jpeg', 'File12.jpeg', 'File13.jpeg']\n",
            "14\n"
          ]
        }
      ],
      "source": [
        "folder_path='/content/Parsva Virabhadrasana'\n",
        "folder_images=os.listdir(folder_path)\n",
        "print(folder_images)\n",
        "print(len(folder_images))\n",
        "for i in range(14):\n",
        "  img_path=folder_path+'/'+folder_images[i]\n",
        "  img_pillow=Image.open(img_path)\n",
        "  img_color=img_pillow.convert('RGB')\n",
        "  img_resize=img_color.resize((64,64))\n",
        "  img_arr=np.array(img_resize)\n",
        "  data.append([img_arr,23])"
      ]
    },
    {
      "cell_type": "code",
      "execution_count": 30,
      "metadata": {
        "colab": {
          "base_uri": "https://localhost:8080/"
        },
        "id": "WMbgyXknKLU4",
        "outputId": "c710afe3-7efa-439b-ec4f-d9be04265635"
      },
      "outputs": [
        {
          "output_type": "stream",
          "name": "stdout",
          "text": [
            "['File31.png', 'File28.png', 'File15.png', 'File26.png', 'File20.png', 'File3.png', 'File40.jpeg', 'File38.jpeg', 'File1.png', 'File35.png', 'File4.png', 'File19.png', 'File13.png', 'File34.png', 'File18.png', 'File11.png', 'File22.png', 'File30.png', 'File33.png', 'File12.png', 'File37.jpeg', 'File36.jpeg', 'File21.png', 'File27.png', 'File39.jpeg', 'File5.png', 'File24.png', 'File7.png', 'File32.png', 'File17.png', 'File6.png', 'File2.png', 'File42.jpeg', 'File9.png', 'File43.jpeg', 'File29.png', 'File10.png', 'File25.png', 'File8.png', 'File41.jpeg', 'File14.png', 'File16.png', 'File23.png']\n",
            "43\n"
          ]
        }
      ],
      "source": [
        "folder_path='/content/Parsvottanasana'\n",
        "folder_images=os.listdir(folder_path)\n",
        "print(folder_images)\n",
        "print(len(folder_images))\n",
        "for i in range(43):\n",
        "  img_path=folder_path+'/'+folder_images[i]\n",
        "  img_pillow=Image.open(img_path)\n",
        "  img_color=img_pillow.convert('RGB')\n",
        "  img_resize=img_color.resize((64,64))\n",
        "  img_arr=np.array(img_resize)\n",
        "  data.append([img_arr,24])"
      ]
    },
    {
      "cell_type": "code",
      "execution_count": 31,
      "metadata": {
        "colab": {
          "base_uri": "https://localhost:8080/"
        },
        "id": "gVxx1OU5KXlO",
        "outputId": "c1a22908-9488-4a79-f51d-a3d1647cf11d"
      },
      "outputs": [
        {
          "output_type": "stream",
          "name": "stdout",
          "text": [
            "['File31.png', 'File28.png', 'File15.png', 'File62.jpeg', 'File26.png', 'File20.png', 'File39.png', 'File37.png', 'File54.png', 'File47.png', 'File3.png', 'File52.png', 'File56.png', 'File1.png', 'File35.png', 'File4.png', 'File44.png', 'File43.png', 'File19.png', 'File46.png', 'File13.png', 'File34.png', 'File18.png', 'File11.png', 'File41.png', 'File49.png', 'File55.png', 'File40.png', 'File22.png', 'File30.png', 'File33.png', 'File50.png', 'File12.png', 'File53.png', 'File51.png', 'File21.png', 'File59.jpeg', 'File27.png', 'File5.png', 'File45.png', 'File24.png', 'File57.jpeg', 'File7.png', 'File38.png', 'File32.png', 'File17.png', 'File6.png', 'File9.png', 'File29.png', 'File10.png', 'File25.png', 'File8.png', 'File58.jpeg', 'File2.jpeg', 'File36.png', 'File48.png', 'File60.jpeg', 'File14.png', 'File16.png', 'File42.png', 'File61.jpeg', 'File23.png']\n",
            "62\n"
          ]
        }
      ],
      "source": [
        "folder_path='/content/Paschimottanasana'\n",
        "folder_images=os.listdir(folder_path)\n",
        "print(folder_images)\n",
        "print(len(folder_images))\n",
        "for i in range(62):\n",
        "  img_path=folder_path+'/'+folder_images[i]\n",
        "  img_pillow=Image.open(img_path)\n",
        "  img_color=img_pillow.convert('RGB')\n",
        "  img_resize=img_color.resize((64,64))\n",
        "  img_arr=np.array(img_resize)\n",
        "  data.append([img_arr,25])"
      ]
    },
    {
      "cell_type": "code",
      "execution_count": 32,
      "metadata": {
        "colab": {
          "base_uri": "https://localhost:8080/"
        },
        "id": "3SPaVYFwKXpc",
        "outputId": "7a84c2af-6cef-4bab-db93-f4da83aed7fd"
      },
      "outputs": [
        {
          "output_type": "stream",
          "name": "stdout",
          "text": [
            "['File31.png', 'File28.png', 'File63.jpeg', 'File15.png', 'File62.jpeg', 'File26.png', 'File20.png', 'File39.png', 'File37.png', 'File47.png', 'File3.png', 'File55.jpg', 'File1.png', 'File35.png', 'File4.png', 'File44.png', 'File43.png', 'File19.png', 'File46.png', 'File13.png', 'File34.png', 'File18.png', 'File11.png', 'File64.jpeg', 'File41.png', 'File49.png', 'File40.png', 'File22.png', 'File54.jpg', 'File30.png', 'File33.png', 'File12.png', 'File21.png', 'File59.jpeg', 'File27.png', 'File50.jpg', 'File5.png', 'File45.png', 'File24.png', 'File7.png', 'File56.jpg', 'File38.png', 'File32.png', 'File17.png', 'File51.jpg', 'File6.png', 'File52.jpg', 'File2.png', 'File9.png', 'File65.jpeg', 'File29.png', 'File10.png', 'File57.jpg', 'File25.png', 'File8.png', 'File58.jpeg', 'File36.png', 'File48.png', 'File60.jpeg', 'File66.jpeg', 'File14.png', 'File16.png', 'File42.png', 'File61.jpeg', 'File53.jpg', 'File23.png']\n",
            "66\n"
          ]
        }
      ],
      "source": [
        "folder_path='/content/Phalakasana'\n",
        "folder_images=os.listdir(folder_path)\n",
        "print(folder_images)\n",
        "print(len(folder_images))\n",
        "for i in range(66):\n",
        "  img_path=folder_path+'/'+folder_images[i]\n",
        "  img_pillow=Image.open(img_path)\n",
        "  img_color=img_pillow.convert('RGB')\n",
        "  img_resize=img_color.resize((64,64))\n",
        "  img_arr=np.array(img_resize)\n",
        "  data.append([img_arr,26])"
      ]
    },
    {
      "cell_type": "code",
      "execution_count": 33,
      "metadata": {
        "colab": {
          "base_uri": "https://localhost:8080/"
        },
        "id": "vzzSVm-HKXr8",
        "outputId": "9189d279-654e-471e-a79a-ca7514ee81c2"
      },
      "outputs": [
        {
          "output_type": "stream",
          "name": "stdout",
          "text": [
            "['File31.png', 'File28.png', 'File15.png', 'File26.png', 'File20.png', 'File3.png', 'File40.jpeg', 'File38.jpeg', 'File1.png', 'File35.png', 'File4.png', 'File19.png', 'File13.png', 'File34.png', 'File18.png', 'File11.png', 'File22.png', 'File30.png', 'File33.png', 'File12.png', 'File37.jpeg', 'File36.jpeg', 'File21.png', 'File27.png', 'File39.jpeg', 'File5.png', 'File24.png', 'File7.png', 'File32.png', 'File17.png', 'File6.png', 'File2.png', 'File42.jpeg', 'File9.png', 'File43.jpeg', 'File29.png', 'File10.png', 'File25.png', 'File8.png', 'File41.jpeg', 'File14.png', 'File16.png', 'File23.png']\n",
            "43\n"
          ]
        }
      ],
      "source": [
        "folder_path='/content/Pincha Mayurasana'\n",
        "folder_images=os.listdir(folder_path)\n",
        "print(folder_images)\n",
        "print(len(folder_images))\n",
        "for i in range(43):\n",
        "  img_path=folder_path+'/'+folder_images[i]\n",
        "  img_pillow=Image.open(img_path)\n",
        "  img_color=img_pillow.convert('RGB')\n",
        "  img_resize=img_color.resize((64,64))\n",
        "  img_arr=np.array(img_resize)\n",
        "  data.append([img_arr,27])"
      ]
    },
    {
      "cell_type": "code",
      "execution_count": 34,
      "metadata": {
        "colab": {
          "base_uri": "https://localhost:8080/"
        },
        "id": "0bDRi9mXKXvH",
        "outputId": "c8fa18ed-9ebd-42de-ac85-f3807de7600a"
      },
      "outputs": [
        {
          "output_type": "stream",
          "name": "stdout",
          "text": [
            "['File31.png', 'File28.png', 'File15.png', 'File62.jpeg', 'File44.jpeg', 'File26.png', 'File20.png', 'File39.png', 'File37.png', 'File54.png', 'File47.png', 'File3.png', 'File52.png', 'File1.png', 'File35.png', 'File4.png', 'File43.png', 'File19.png', 'File46.png', 'File13.png', 'File34.png', 'File18.png', 'File11.png', 'File41.png', 'File49.png', 'File55.png', 'File40.png', 'File22.png', 'File30.png', 'File33.png', 'File50.png', 'File12.png', 'File53.png', 'File51.png', 'File21.png', 'File59.jpeg', 'File27.png', 'File56.jpeg', 'File5.png', 'File45.png', 'File24.png', 'File57.jpeg', 'File7.png', 'File38.png', 'File32.png', 'File17.png', 'File6.png', 'File2.png', 'File9.png', 'File29.png', 'File10.png', 'File25.png', 'File8.png', 'File58.jpeg', 'File36.png', 'File48.png', 'File60.jpeg', 'File14.png', 'File16.png', 'File42.png', 'File61.jpeg', 'File23.png']\n",
            "62\n"
          ]
        }
      ],
      "source": [
        "folder_path='/content/Salamba Bhujangasana'\n",
        "folder_images=os.listdir(folder_path)\n",
        "print(folder_images)\n",
        "print(len(folder_images))\n",
        "for i in range(62):\n",
        "  img_path=folder_path+'/'+folder_images[i]\n",
        "  img_pillow=Image.open(img_path)\n",
        "  img_color=img_pillow.convert('RGB')\n",
        "  img_resize=img_color.resize((64,64))\n",
        "  img_arr=np.array(img_resize)\n",
        "  data.append([img_arr,28])"
      ]
    },
    {
      "cell_type": "code",
      "execution_count": 35,
      "metadata": {
        "colab": {
          "base_uri": "https://localhost:8080/"
        },
        "id": "u6aJ2vDhKXxT",
        "outputId": "a328e44d-0e7c-472a-9f12-bf88cb0b264a"
      },
      "outputs": [
        {
          "output_type": "stream",
          "name": "stdout",
          "text": [
            "['File31.png', 'File28.png', 'File70.jpeg', 'File15.png', 'File64.png', 'File26.png', 'File20.png', 'File39.png', 'File37.png', 'File54.png', 'File61.png', 'File47.png', 'File3.png', 'File69.jpeg', 'File52.png', 'File72.jpeg', 'File59.png', 'File68.jpeg', 'File56.png', 'File1.png', 'File35.png', 'File4.png', 'File44.png', 'File43.png', 'File19.png', 'File46.png', 'File13.png', 'File34.png', 'File18.png', 'File11.png', 'File41.png', 'File49.png', 'File55.png', 'File40.png', 'File22.png', 'File30.png', 'File33.png', 'File50.png', 'File73.jpeg', 'File12.png', 'File63.png', 'File62.png', 'File53.png', 'File51.png', 'File21.png', 'File27.png', 'File5.png', 'File57.png', 'File45.png', 'File24.png', 'File7.png', 'File38.png', 'File32.png', 'File58.png', 'File17.png', 'File71.jpeg', 'File6.png', 'File66.png', 'File2.png', 'File9.png', 'File29.png', 'File10.png', 'File25.png', 'File67.png', 'File8.png', 'File36.png', 'File60.png', 'File48.png', 'File65.png', 'File14.png', 'File16.png', 'File42.png', 'File23.png']\n",
            "73\n"
          ]
        }
      ],
      "source": [
        "folder_path='/content/Salamba Sarvangasana'\n",
        "folder_images=os.listdir(folder_path)\n",
        "print(folder_images)\n",
        "print(len(folder_images))\n",
        "for i in range(73):\n",
        "  img_path=folder_path+'/'+folder_images[i]\n",
        "  img_pillow=Image.open(img_path)\n",
        "  img_color=img_pillow.convert('RGB')\n",
        "  img_resize=img_color.resize((64,64))\n",
        "  img_arr=np.array(img_resize)\n",
        "  data.append([img_arr,29])"
      ]
    },
    {
      "cell_type": "code",
      "execution_count": 36,
      "metadata": {
        "colab": {
          "base_uri": "https://localhost:8080/"
        },
        "id": "o8ppbR6tKX0C",
        "outputId": "4ae58570-8445-4d7c-f279-e04da74cda55"
      },
      "outputs": [
        {
          "output_type": "stream",
          "name": "stdout",
          "text": [
            "['File31.png', 'File28.png', 'File63.jpeg', 'File15.png', 'File62.jpeg', 'File26.png', 'File20.png', 'File39.png', 'File37.png', 'File47.png', 'File3.png', 'File60.jpg', 'File61.jpg', 'File55.jpg', 'File68.jpeg', 'File49.jpg', 'File1.png', 'File35.png', 'File4.png', 'File44.png', 'File43.png', 'File19.png', 'File46.png', 'File13.png', 'File18.png', 'File11.png', 'File64.jpeg', 'File41.png', 'File40.png', 'File22.png', 'File54.jpg', 'File30.png', 'File33.png', 'File59.jpg', 'File12.png', 'File53.png', 'File21.png', 'File27.png', 'File58.jpg', 'File50.jpg', 'File5.png', 'File45.png', 'File48.jpg', 'File24.png', 'File7.png', 'File69.png', 'File67.jpeg', 'File38.png', 'File32.png', 'File17.png', 'File6.png', 'File52.jpg', 'File2.png', 'File9.png', 'File65.jpeg', 'File29.png', 'File10.png', 'File57.jpg', 'File25.png', 'File8.png', 'File36.png', 'File66.jpeg', 'File14.png', 'File16.png', 'File42.png', 'File23.png']\n",
            "66\n"
          ]
        }
      ],
      "source": [
        "folder_path='/content/Setu Bandha Sarvangasana'\n",
        "folder_images=os.listdir(folder_path)\n",
        "print(folder_images)\n",
        "print(len(folder_images))\n",
        "for i in range(66):\n",
        "  img_path=folder_path+'/'+folder_images[i]\n",
        "  img_pillow=Image.open(img_path)\n",
        "  img_color=img_pillow.convert('RGB')\n",
        "  img_resize=img_color.resize((64,64))\n",
        "  img_arr=np.array(img_resize)\n",
        "  data.append([img_arr,30])"
      ]
    },
    {
      "cell_type": "code",
      "execution_count": 37,
      "metadata": {
        "colab": {
          "base_uri": "https://localhost:8080/"
        },
        "id": "3tbb32BgKX20",
        "outputId": "52944141-82f7-46fa-f9a0-bc97f2b3a7e4"
      },
      "outputs": [
        {
          "output_type": "stream",
          "name": "stdout",
          "text": [
            "['File15.jpeg', 'File9.jpeg', 'File19.jpeg', 'File18.jpeg', 'File1.jpeg', 'File11.jpeg', 'File5.jpeg', 'File14.jpeg', 'File3.jpeg', 'File7.jpeg', 'File20.jpeg', 'File17.jpeg', 'File4.jpeg', 'File2.png', 'File8.png', 'File16.jpeg', 'File10.jpeg', 'File6.jpeg', 'File12.jpeg', 'File13.jpeg']\n",
            "20\n"
          ]
        }
      ],
      "source": [
        "folder_path='/content/Sivasana'\n",
        "folder_images=os.listdir(folder_path)\n",
        "print(folder_images)\n",
        "print(len(folder_images))\n",
        "for i in range(20):\n",
        "  img_path=folder_path+'/'+folder_images[i]\n",
        "  img_pillow=Image.open(img_path)\n",
        "  img_color=img_pillow.convert('RGB')\n",
        "  img_resize=img_color.resize((64,64))\n",
        "  img_arr=np.array(img_resize)\n",
        "  data.append([img_arr,31])"
      ]
    },
    {
      "cell_type": "code",
      "execution_count": 38,
      "metadata": {
        "colab": {
          "base_uri": "https://localhost:8080/"
        },
        "id": "EqNJNbjAKX50",
        "outputId": "adb5c0d4-17e9-41d7-a036-46961083d7f1"
      },
      "outputs": [
        {
          "output_type": "stream",
          "name": "stdout",
          "text": [
            "['File9.jpeg', 'File1.jpeg', 'File11.jpeg', 'File5.png', 'File3.jpeg', 'File7.jpeg', 'File4.jpeg', 'File8.jpeg', 'File2.png', 'File10.png', 'File6.jpeg', 'File12.jpeg', 'File13.jpeg']\n",
            "13\n"
          ]
        }
      ],
      "source": [
        "folder_path='/content/Supta Kapotasana'\n",
        "folder_images=os.listdir(folder_path)\n",
        "print(folder_images)\n",
        "print(len(folder_images))\n",
        "for i in range(13):\n",
        "  img_path=folder_path+'/'+folder_images[i]\n",
        "  img_pillow=Image.open(img_path)\n",
        "  img_color=img_pillow.convert('RGB')\n",
        "  img_resize=img_color.resize((64,64))\n",
        "  img_arr=np.array(img_resize)\n",
        "  data.append([img_arr,32])"
      ]
    },
    {
      "cell_type": "code",
      "execution_count": 39,
      "metadata": {
        "colab": {
          "base_uri": "https://localhost:8080/"
        },
        "id": "EFN2e43lKcg8",
        "outputId": "de31a9f6-1f22-4d29-db75-c4f5f455557d"
      },
      "outputs": [
        {
          "output_type": "stream",
          "name": "stdout",
          "text": [
            "['File15.jpeg', 'File9.jpeg', 'File19.jpeg', 'File18.jpeg', 'File1.jpeg', 'File11.jpeg', 'File22.jpeg', 'File5.jpeg', 'File14.jpeg', 'File3.jpeg', 'File7.jpeg', 'File20.jpeg', 'File17.jpeg', 'File4.jpeg', 'File8.jpeg', 'File23.jpeg', 'File16.jpeg', 'File2.jpeg', 'File21.jpeg', 'File10.jpeg', 'File6.jpeg', 'File12.jpeg', 'File13.jpeg']\n",
            "23\n"
          ]
        }
      ],
      "source": [
        "folder_path='/content/Trikonasana'\n",
        "folder_images=os.listdir(folder_path)\n",
        "print(folder_images)\n",
        "print(len(folder_images))\n",
        "for i in range(23):\n",
        "  img_path=folder_path+'/'+folder_images[i]\n",
        "  img_pillow=Image.open(img_path)\n",
        "  img_color=img_pillow.convert('RGB')\n",
        "  img_resize=img_color.resize((64,64))\n",
        "  img_arr=np.array(img_resize)\n",
        "  data.append([img_arr,33])"
      ]
    },
    {
      "cell_type": "code",
      "execution_count": 40,
      "metadata": {
        "colab": {
          "base_uri": "https://localhost:8080/"
        },
        "id": "AN0X62itKckW",
        "outputId": "dde98916-1e8e-4d75-be30-a6f4d30aab2c"
      },
      "outputs": [
        {
          "output_type": "stream",
          "name": "stdout",
          "text": [
            "['File15.jpeg', 'File9.jpeg', 'File1.jpeg', 'File11.jpeg', 'File5.jpeg', 'File14.jpeg', 'File3.jpeg', 'File7.jpeg', 'File17.jpeg', 'File4.jpeg', 'File8.jpeg', 'File16.jpeg', 'File2.jpeg', 'File10.jpeg', 'File6.jpeg', 'File12.jpeg', 'File13.jpeg']\n",
            "17\n"
          ]
        }
      ],
      "source": [
        "folder_path='/content/Upavistha Konasana'\n",
        "folder_images=os.listdir(folder_path)\n",
        "print(folder_images)\n",
        "print(len(folder_images))\n",
        "for i in range(17):\n",
        "  img_path=folder_path+'/'+folder_images[i]\n",
        "  img_pillow=Image.open(img_path)\n",
        "  img_color=img_pillow.convert('RGB')\n",
        "  img_resize=img_color.resize((64,64))\n",
        "  img_arr=np.array(img_resize)\n",
        "  data.append([img_arr,34])"
      ]
    },
    {
      "cell_type": "code",
      "execution_count": 41,
      "metadata": {
        "colab": {
          "base_uri": "https://localhost:8080/"
        },
        "id": "-X8d5uRJKcng",
        "outputId": "7ab332af-9859-4a24-e133-fffc1f3b3def"
      },
      "outputs": [
        {
          "output_type": "stream",
          "name": "stdout",
          "text": [
            "['File31.png', 'File28.png', 'File70.jpeg', 'File15.png', 'File64.png', 'File26.png', 'File20.png', 'File39.png', 'File37.png', 'File54.png', 'File61.png', 'File47.png', 'File3.png', 'File69.jpeg', 'File52.png', 'File72.jpeg', 'File59.png', 'File56.png', 'File68.png', 'File1.png', 'File4.png', 'File44.png', 'File43.png', 'File19.png', 'File46.png', 'File13.png', 'File34.png', 'File18.png', 'File11.png', 'File41.png', 'File49.png', 'File55.png', 'File40.png', 'File30.png', 'File33.png', 'File22.jpeg', 'File50.png', 'File74.jpeg', 'File73.jpeg', 'File12.png', 'File63.png', 'File62.png', 'File53.png', 'File51.png', 'File21.png', 'File27.png', 'File5.png', 'File57.png', 'File45.png', 'File24.png', 'File7.png', 'File38.png', 'File32.png', 'File58.png', 'File17.png', 'File35.jpeg', 'File71.jpeg', 'File6.png', 'File66.png', 'File2.png', 'File9.png', 'File29.png', 'File10.png', 'File25.png', 'File67.png', 'File8.png', 'File36.png', 'File60.png', 'File48.png', 'File65.png', 'File14.png', 'File16.png', 'File42.png', 'File23.png']\n",
            "74\n"
          ]
        }
      ],
      "source": [
        "folder_path='/content/Urdhva Dhanurasana'\n",
        "folder_images=os.listdir(folder_path)\n",
        "print(folder_images)\n",
        "print(len(folder_images))\n",
        "for i in range(74):\n",
        "  img_path=folder_path+'/'+folder_images[i]\n",
        "  img_pillow=Image.open(img_path)\n",
        "  img_color=img_pillow.convert('RGB')\n",
        "  img_resize=img_color.resize((64,64))\n",
        "  img_arr=np.array(img_resize)\n",
        "  data.append([img_arr,35])"
      ]
    },
    {
      "cell_type": "code",
      "execution_count": 42,
      "metadata": {
        "colab": {
          "base_uri": "https://localhost:8080/"
        },
        "id": "BLwRuas3KcuB",
        "outputId": "c7cc67db-e21c-4525-cff4-224541e35fe6"
      },
      "outputs": [
        {
          "output_type": "stream",
          "name": "stdout",
          "text": [
            "['File31.png', 'File28.png', 'File15.png', 'File26.png', 'File20.png', 'File39.png', 'File37.png', 'File54.png', 'File61.png', 'File47.png', 'File3.png', 'File69.jpeg', 'File52.png', 'File59.png', 'File68.jpeg', 'File56.png', 'File1.png', 'File35.png', 'File4.png', 'File44.png', 'File43.png', 'File19.png', 'File46.png', 'File13.png', 'File34.png', 'File18.png', 'File11.png', 'File64.jpeg', 'File41.png', 'File49.png', 'File55.png', 'File40.png', 'File22.png', 'File30.png', 'File33.png', 'File50.png', 'File12.png', 'File63.png', 'File62.png', 'File53.png', 'File51.png', 'File21.png', 'File27.png', 'File5.png', 'File57.png', 'File45.png', 'File24.png', 'File7.png', 'File67.jpeg', 'File38.png', 'File32.png', 'File58.png', 'File17.png', 'File6.png', 'File2.png', 'File9.png', 'File65.jpeg', 'File29.png', 'File10.png', 'File25.png', 'File8.png', 'File36.png', 'File60.png', 'File48.png', 'File66.jpeg', 'File14.png', 'File16.png', 'File42.png', 'File23.png']\n",
            "69\n"
          ]
        }
      ],
      "source": [
        "folder_path='/content/Urdhva Mukha Svsnssana'\n",
        "folder_images=os.listdir(folder_path)\n",
        "print(folder_images)\n",
        "print(len(folder_images))\n",
        "for i in range(69):\n",
        "  img_path=folder_path+'/'+folder_images[i]\n",
        "  img_pillow=Image.open(img_path)\n",
        "  img_color=img_pillow.convert('RGB')\n",
        "  img_resize=img_color.resize((64,64))\n",
        "  img_arr=np.array(img_resize)\n",
        "  data.append([img_arr,36])"
      ]
    },
    {
      "cell_type": "code",
      "execution_count": 43,
      "metadata": {
        "colab": {
          "base_uri": "https://localhost:8080/"
        },
        "id": "FujZn8ZyKcxF",
        "outputId": "43325dff-95c5-4b60-ad7b-7322f3a998fc"
      },
      "outputs": [
        {
          "output_type": "stream",
          "name": "stdout",
          "text": [
            "['File31.png', 'File28.png', 'File89.jpeg', 'File15.png', 'File64.png', 'File26.png', 'File20.png', 'File39.png', 'File84.png', 'File37.png', 'File54.png', 'File61.png', 'File96.png', 'File47.png', 'File3.png', 'File52.png', 'File81.png', 'File75.png', 'File73.png', 'File59.png', 'File56.png', 'File68.png', 'File94.jpeg', 'File1.png', 'File95.jpeg', 'File35.png', 'File4.png', 'File44.png', 'File43.png', 'File19.png', 'File46.png', 'File13.png', 'File34.png', 'File18.png', 'File11.png', 'File41.png', 'File49.png', 'File87.png', 'File55.png', 'File40.png', 'File70.png', 'File22.png', 'File30.png', 'File33.png', 'File50.png', 'File12.png', 'File85.png', 'File63.png', 'File62.png', 'File91.jpeg', 'File53.png', 'File51.png', 'File21.png', 'File76.png', 'File27.png', 'File80.png', 'File5.png', 'File57.png', 'File45.png', 'File86.png', 'File83.png', 'File24.png', 'File7.png', 'File82.png', 'File69.png', 'File38.png', 'File78.png', 'File32.png', 'File58.png', 'File79.png', 'File17.png', 'File92.jpeg', 'File6.png', 'File66.png', 'File2.png', 'File9.png', 'File29.png', 'File10.png', 'File72.png', 'File25.png', 'File67.png', 'File8.png', 'File36.png', 'File60.png', 'File48.png', 'File77.png', 'File90.jpeg', 'File65.png', 'File74.png', 'File88.jpeg', 'File14.png', 'File93.jpeg', 'File16.png', 'File42.png', 'File71.png', 'File23.png']\n",
            "96\n"
          ]
        }
      ],
      "source": [
        "folder_path='/content/Ustrasana'\n",
        "folder_images=os.listdir(folder_path)\n",
        "print(folder_images)\n",
        "print(len(folder_images))\n",
        "for i in range(96):\n",
        "  img_path=folder_path+'/'+folder_images[i]\n",
        "  img_pillow=Image.open(img_path)\n",
        "  img_color=img_pillow.convert('RGB')\n",
        "  img_resize=img_color.resize((64,64))\n",
        "  img_arr=np.array(img_resize)\n",
        "  data.append([img_arr,37])"
      ]
    },
    {
      "cell_type": "code",
      "execution_count": 44,
      "metadata": {
        "colab": {
          "base_uri": "https://localhost:8080/"
        },
        "id": "bkdOzBQzKc3W",
        "outputId": "1229aa6b-79c1-43fa-e480-5e5fd8b0067a"
      },
      "outputs": [
        {
          "output_type": "stream",
          "name": "stdout",
          "text": [
            "['File31.png', 'File28.png', 'File15.png', 'File64.png', 'File26.png', 'File20.png', 'File39.png', 'File37.png', 'File54.png', 'File61.png', 'File47.png', 'File3.png', 'File52.png', 'File81.png', 'File73.png', 'File59.png', 'File56.png', 'File78.jpeg', 'File1.png', 'File35.png', 'File4.png', 'File44.png', 'File43.png', 'File19.png', 'File46.png', 'File13.png', 'File34.png', 'File18.png', 'File77.jpeg', 'File11.png', 'File41.png', 'File49.png', 'File55.png', 'File40.png', 'File70.png', 'File22.png', 'File30.png', 'File33.png', 'File50.png', 'File74.jpeg', 'File12.png', 'File63.png', 'File62.png', 'File53.png', 'File51.png', 'File21.png', 'File79.jpeg', 'File27.png', 'File5.png', 'File57.png', 'File45.png', 'File24.png', 'File7.png', 'File69.png', 'File38.png', 'File32.png', 'File58.png', 'File17.png', 'File80.jpeg', 'File6.png', 'File66.png', 'File2.png', 'File9.png', 'File29.png', 'File10.png', 'File72.png', 'File25.png', 'File67.png', 'File8.png', 'File36.png', 'File60.png', 'File48.png', 'File75.jpeg', 'File65.png', 'File14.png', 'File16.png', 'File71.png', 'File42.jpg', 'File76.jpeg', 'File68.jpg', 'File23.png']\n",
            "81\n"
          ]
        }
      ],
      "source": [
        "folder_path='/content/Utkatasana'\n",
        "folder_images=os.listdir(folder_path)\n",
        "print(folder_images)\n",
        "print(len(folder_images))\n",
        "for i in range(81):\n",
        "  img_path=folder_path+'/'+folder_images[i]\n",
        "  img_pillow=Image.open(img_path)\n",
        "  img_color=img_pillow.convert('RGB')\n",
        "  img_resize=img_color.resize((64,64))\n",
        "  img_arr=np.array(img_resize)\n",
        "  data.append([img_arr,38])"
      ]
    },
    {
      "cell_type": "code",
      "execution_count": 45,
      "metadata": {
        "colab": {
          "base_uri": "https://localhost:8080/"
        },
        "id": "9WFnLwvYKc6C",
        "outputId": "c1952bc2-bd83-42d8-bf21-901875566bf9"
      },
      "outputs": [
        {
          "output_type": "stream",
          "name": "stdout",
          "text": [
            "['File31.png', 'File70.jpeg', 'File15.png', 'File26.png', 'File20.png', 'File39.png', 'File37.png', 'File54.png', 'File61.png', 'File47.png', 'File3.png', 'File69.jpeg', 'File52.png', 'File59.png', 'File68.jpeg', 'File56.png', 'File1.png', 'File35.png', 'File4.png', 'File44.png', 'File43.png', 'File19.png', 'File46.png', 'File13.png', 'File34.png', 'File18.png', 'File11.png', 'File64.jpeg', 'File41.png', 'File49.png', 'File55.png', 'File40.png', 'File22.png', 'File30.png', 'File33.png', 'File50.png', 'File12.png', 'File63.png', 'File62.png', 'File53.png', 'File51.png', 'File21.png', 'File27.png', 'File5.png', 'File57.png', 'File45.png', 'File24.png', 'File7.png', 'File67.jpeg', 'File38.png', 'File32.png', 'File58.png', 'File17.png', 'File71.jpeg', 'File6.png', 'File2.png', 'File9.png', 'File65.jpeg', 'File29.png', 'File10.png', 'File25.png', 'File8.png', 'File36.png', 'File60.png', 'File48.png', 'File66.jpeg', 'File14.png', 'File28.jpeg', 'File16.png', 'File42.png', 'File23.png']\n",
            "71\n"
          ]
        }
      ],
      "source": [
        "folder_path='/content/Uttanasana'\n",
        "folder_images=os.listdir(folder_path)\n",
        "print(folder_images)\n",
        "print(len(folder_images))\n",
        "for i in range(71):\n",
        "  img_path=folder_path+'/'+folder_images[i]\n",
        "  img_pillow=Image.open(img_path)\n",
        "  img_color=img_pillow.convert('RGB')\n",
        "  img_resize=img_color.resize((64,64))\n",
        "  img_arr=np.array(img_resize)\n",
        "  data.append([img_arr,39])"
      ]
    },
    {
      "cell_type": "code",
      "execution_count": 46,
      "metadata": {
        "colab": {
          "base_uri": "https://localhost:8080/"
        },
        "id": "f99igmmEQU-H",
        "outputId": "1340481a-a3a9-4590-e73f-0a0849a92582"
      },
      "outputs": [
        {
          "output_type": "stream",
          "name": "stdout",
          "text": [
            "['File31.png', 'File28.png', 'File63.jpeg', 'File15.png', 'File62.jpeg', 'File64.png', 'File26.png', 'File20.png', 'File39.png', 'File37.png', 'File54.png', 'File61.png', 'File47.png', 'File3.png', 'File52.png', 'File59.png', 'File56.png', 'File1.png', 'File35.png', 'File4.png', 'File44.png', 'File43.png', 'File19.png', 'File46.png', 'File13.png', 'File34.png', 'File18.png', 'File11.png', 'File41.png', 'File49.png', 'File55.png', 'File40.png', 'File22.png', 'File30.png', 'File33.png', 'File50.png', 'File12.png', 'File53.png', 'File51.png', 'File21.png', 'File27.png', 'File5.png', 'File57.png', 'File45.png', 'File24.png', 'File7.png', 'File38.png', 'File32.png', 'File58.png', 'File17.png', 'File6.png', 'File2.png', 'File9.png', 'File29.png', 'File10.png', 'File25.png', 'File8.png', 'File36.png', 'File48.png', 'File60.jpeg', 'File14.png', 'File16.png', 'File42.png', 'File23.png']\n",
            "64\n"
          ]
        }
      ],
      "source": [
        "folder_path='/content/Utthita Hasta Padangusthasana'\n",
        "folder_images=os.listdir(folder_path)\n",
        "print(folder_images)\n",
        "print(len(folder_images))\n",
        "for i in range(64):\n",
        "  img_path=folder_path+'/'+folder_images[i]\n",
        "  img_pillow=Image.open(img_path)\n",
        "  img_color=img_pillow.convert('RGB')\n",
        "  img_resize=img_color.resize((64,64))\n",
        "  img_arr=np.array(img_resize)\n",
        "  data.append([img_arr,40])"
      ]
    },
    {
      "cell_type": "code",
      "execution_count": 47,
      "metadata": {
        "colab": {
          "base_uri": "https://localhost:8080/"
        },
        "id": "tdWm5kBzXCto",
        "outputId": "bf5b6a94-3d78-4b57-bf1d-0f4ff1559b02"
      },
      "outputs": [
        {
          "output_type": "stream",
          "name": "stdout",
          "text": [
            "['File31.png', 'File28.png', 'File15.png', 'File26.png', 'File20.png', 'File39.png', 'File37.png', 'File54.png', 'File61.png', 'File47.png', 'File3.png', 'File69.jpeg', 'File52.png', 'File59.png', 'File68.jpeg', 'File56.png', 'File1.png', 'File35.png', 'File4.png', 'File44.png', 'File43.png', 'File19.png', 'File46.png', 'File13.png', 'File34.png', 'File18.png', 'File11.png', 'File64.jpeg', 'File41.png', 'File49.png', 'File55.png', 'File40.png', 'File30.png', 'File33.png', 'File22.jpeg', 'File50.png', 'File12.png', 'File63.png', 'File62.png', 'File53.png', 'File51.png', 'File21.png', 'File27.png', 'File5.png', 'File57.png', 'File45.png', 'File24.png', 'File7.png', 'File67.jpeg', 'File38.png', 'File32.png', 'File58.png', 'File17.png', 'File6.png', 'File2.png', 'File9.png', 'File65.jpeg', 'File29.png', 'File10.png', 'File25.png', 'File8.png', 'File36.png', 'File60.png', 'File48.png', 'File66.jpeg', 'File14.png', 'File16.png', 'File42.png', 'File23.png']\n",
            "69\n"
          ]
        }
      ],
      "source": [
        "folder_path='/content/Utthita Parsvakonasana'\n",
        "folder_images=os.listdir(folder_path)\n",
        "print(folder_images)\n",
        "print(len(folder_images))\n",
        "for i in range(69):\n",
        "  img_path=folder_path+'/'+folder_images[i]\n",
        "  img_pillow=Image.open(img_path)\n",
        "  img_color=img_pillow.convert('RGB')\n",
        "  img_resize=img_color.resize((64,64))\n",
        "  img_arr=np.array(img_resize)\n",
        "  data.append([img_arr,41])"
      ]
    },
    {
      "cell_type": "code",
      "execution_count": 48,
      "metadata": {
        "colab": {
          "base_uri": "https://localhost:8080/"
        },
        "id": "dfSKP5VLXCxA",
        "outputId": "37efabb1-4c6c-441f-f369-36e189ecc34f"
      },
      "outputs": [
        {
          "output_type": "stream",
          "name": "stdout",
          "text": [
            "['File31.png', 'File28.png', 'File15.png', 'File64.png', 'File26.png', 'File20.png', 'File39.png', 'File37.png', 'File54.png', 'File61.png', 'File47.png', 'File3.png', 'File52.png', 'File73.png', 'File59.png', 'File56.png', 'File68.png', 'File78.jpeg', 'File1.png', 'File35.png', 'File4.png', 'File44.png', 'File43.png', 'File19.png', 'File46.png', 'File13.png', 'File34.png', 'File18.png', 'File77.jpeg', 'File11.png', 'File41.png', 'File49.png', 'File55.png', 'File40.png', 'File70.png', 'File22.png', 'File30.png', 'File33.png', 'File50.png', 'File12.png', 'File63.png', 'File62.png', 'File53.png', 'File51.png', 'File21.png', 'File79.jpeg', 'File27.png', 'File5.png', 'File57.png', 'File45.png', 'File24.png', 'File7.png', 'File69.png', 'File38.png', 'File32.png', 'File58.png', 'File17.png', 'File80.jpeg', 'File6.png', 'File66.png', 'File2.png', 'File9.png', 'File29.png', 'File10.png', 'File72.png', 'File25.png', 'File67.png', 'File8.png', 'File36.png', 'File60.png', 'File48.png', 'File75.jpeg', 'File65.png', 'File74.png', 'File14.png', 'File16.png', 'File42.png', 'File71.png', 'File76.jpeg', 'File23.png']\n",
            "80\n"
          ]
        }
      ],
      "source": [
        "folder_path='/content/Vasisthasana'\n",
        "folder_images=os.listdir(folder_path)\n",
        "print(folder_images)\n",
        "print(len(folder_images))\n",
        "for i in range(80):\n",
        "  img_path=folder_path+'/'+folder_images[i]\n",
        "  img_pillow=Image.open(img_path)\n",
        "  img_color=img_pillow.convert('RGB')\n",
        "  img_resize=img_color.resize((64,64))\n",
        "  img_arr=np.array(img_resize)\n",
        "  data.append([img_arr,42])"
      ]
    },
    {
      "cell_type": "code",
      "execution_count": 49,
      "metadata": {
        "colab": {
          "base_uri": "https://localhost:8080/"
        },
        "id": "iVeYM4s3XC0C",
        "outputId": "9d03c085-3721-4f77-ac95-267e7b939aa3"
      },
      "outputs": [
        {
          "output_type": "stream",
          "name": "stdout",
          "text": [
            "['File31.png', 'File28.png', 'File63.jpeg', 'File15.png', 'File62.jpeg', 'File26.png', 'File20.png', 'File39.png', 'File37.png', 'File47.png', 'File3.png', 'File1.png', 'File35.png', 'File4.png', 'File44.png', 'File43.png', 'File19.png', 'File46.png', 'File13.png', 'File34.png', 'File18.png', 'File11.png', 'File64.jpeg', 'File41.png', 'File49.png', 'File55.png', 'File40.png', 'File22.png', 'File54.jpg', 'File30.png', 'File33.png', 'File12.png', 'File21.png', 'File59.jpeg', 'File27.png', 'File50.jpg', 'File5.png', 'File45.png', 'File24.png', 'File57.jpeg', 'File7.png', 'File38.png', 'File32.png', 'File17.png', 'File56.gif', 'File51.jpg', 'File6.png', 'File52.jpg', 'File2.png', 'File9.png', 'File65.jpeg', 'File29.png', 'File25.png', 'File8.png', 'File58.jpeg', 'File36.png', 'File48.png', 'File60.jpeg', 'File14.png', 'File16.png', 'File42.png', 'File61.jpeg', 'File53.jpg', 'File23.png']\n",
            "64\n"
          ]
        }
      ],
      "source": [
        "folder_path='/content/Virabhadrasana One'\n",
        "folder_images=os.listdir(folder_path)\n",
        "print(folder_images)\n",
        "print(len(folder_images))\n",
        "for i in range(64):\n",
        "  img_path=folder_path+'/'+folder_images[i]\n",
        "  img_pillow=Image.open(img_path)\n",
        "  img_color=img_pillow.convert('RGB')\n",
        "  img_resize=img_color.resize((64,64))\n",
        "  img_arr=np.array(img_resize)\n",
        "  data.append([img_arr,43])"
      ]
    },
    {
      "cell_type": "code",
      "execution_count": 50,
      "metadata": {
        "colab": {
          "base_uri": "https://localhost:8080/"
        },
        "id": "cM_JJgTNXC2Y",
        "outputId": "1ef2d6e4-9eeb-4186-fb53-dc918b5c39a9"
      },
      "outputs": [
        {
          "output_type": "stream",
          "name": "stdout",
          "text": [
            "['File31.png', 'File28.png', 'File63.jpeg', 'File15.png', 'File62.jpeg', 'File26.png', 'File20.png', 'File39.png', 'File37.png', 'File54.png', 'File61.png', 'File47.png', 'File3.png', 'File69.jpeg', 'File52.png', 'File18.jpeg', 'File59.png', 'File68.jpeg', 'File56.png', 'File1.png', 'File35.png', 'File4.png', 'File44.png', 'File43.png', 'File19.png', 'File46.png', 'File13.png', 'File34.png', 'File11.png', 'File64.jpeg', 'File41.png', 'File49.png', 'File55.png', 'File40.png', 'File22.png', 'File30.png', 'File33.png', 'File50.png', 'File12.png', 'File53.png', 'File51.png', 'File21.png', 'File27.png', 'File5.png', 'File57.png', 'File45.png', 'File24.png', 'File7.png', 'File67.jpeg', 'File38.png', 'File32.png', 'File58.png', 'File17.png', 'File6.png', 'File2.png', 'File9.png', 'File65.jpeg', 'File29.png', 'File10.png', 'File25.png', 'File8.png', 'File36.png', 'File60.png', 'File48.png', 'File66.jpeg', 'File14.png', 'File16.png', 'File42.png', 'File23.png']\n",
            "69\n"
          ]
        }
      ],
      "source": [
        "folder_path='/content/Virabhadrasana Three'\n",
        "folder_images=os.listdir(folder_path)\n",
        "print(folder_images)\n",
        "print(len(folder_images))\n",
        "for i in range(69):\n",
        "  img_path=folder_path+'/'+folder_images[i]\n",
        "  img_pillow=Image.open(img_path)\n",
        "  img_color=img_pillow.convert('RGB')\n",
        "  img_resize=img_color.resize((64,64))\n",
        "  img_arr=np.array(img_resize)\n",
        "  data.append([img_arr,44])"
      ]
    },
    {
      "cell_type": "code",
      "execution_count": 51,
      "metadata": {
        "colab": {
          "base_uri": "https://localhost:8080/"
        },
        "id": "H6st1ARCXC8p",
        "outputId": "187405ac-f2cc-475e-a47f-0393d4104434"
      },
      "outputs": [
        {
          "output_type": "stream",
          "name": "stdout",
          "text": [
            "['File31.png', 'File28.png', 'File15.png', 'File26.png', 'File20.png', 'File39.png', 'File37.png', 'File54.png', 'File47.png', 'File3.png', 'File52.png', 'File1.png', 'File35.png', 'File4.png', 'File44.png', 'File43.png', 'File19.png', 'File46.png', 'File13.png', 'File34.png', 'File18.png', 'File11.png', 'File41.png', 'File49.png', 'File55.png', 'File40.png', 'File22.png', 'File30.png', 'File33.png', 'File50.png', 'File12.png', 'File53.png', 'File51.png', 'File21.png', 'File59.jpeg', 'File27.png', 'File5.png', 'File45.png', 'File24.png', 'File57.jpeg', 'File7.png', 'File38.png', 'File32.png', 'File17.png', 'File56.gif', 'File6.png', 'File2.png', 'File9.png', 'File29.png', 'File10.png', 'File25.png', 'File8.png', 'File58.jpeg', 'File36.png', 'File48.png', 'File60.jpeg', 'File14.png', 'File16.png', 'File42.png', 'File61.jpeg', 'File23.png']\n",
            "61\n"
          ]
        }
      ],
      "source": [
        "folder_path='/content/Virabhadrasana Two'\n",
        "folder_images=os.listdir(folder_path)\n",
        "print(folder_images)\n",
        "print(len(folder_images))\n",
        "for i in range(61):\n",
        "  img_path=folder_path+'/'+folder_images[i]\n",
        "  img_pillow=Image.open(img_path)\n",
        "  img_color=img_pillow.convert('RGB')\n",
        "  img_resize=img_color.resize((64,64))\n",
        "  img_arr=np.array(img_resize)\n",
        "  data.append([img_arr,45])"
      ]
    },
    {
      "cell_type": "code",
      "execution_count": 52,
      "metadata": {
        "colab": {
          "base_uri": "https://localhost:8080/"
        },
        "id": "-N_a50cvX0q2",
        "outputId": "9508b3de-b82b-44da-be88-e3bd4853b623"
      },
      "outputs": [
        {
          "output_type": "stream",
          "name": "stdout",
          "text": [
            "['File31.png', 'File28.png', 'File15.png', 'File26.png', 'File20.png', 'File39.png', 'File37.png', 'File54.png', 'File47.png', 'File3.png', 'File52.png', 'File1.png', 'File35.png', 'File4.png', 'File44.png', 'File43.png', 'File19.png', 'File46.png', 'File13.png', 'File34.png', 'File18.png', 'File11.png', 'File41.png', 'File49.png', 'File55.png', 'File40.png', 'File22.png', 'File30.png', 'File33.png', 'File50.png', 'File12.png', 'File53.png', 'File51.png', 'File21.png', 'File59.jpeg', 'File27.png', 'File5.png', 'File45.png', 'File24.png', 'File57.jpeg', 'File7.png', 'File38.png', 'File32.png', 'File17.png', 'File56.gif', 'File6.png', 'File2.png', 'File9.png', 'File29.png', 'File10.png', 'File25.png', 'File8.png', 'File58.jpeg', 'File36.png', 'File48.png', 'File60.jpeg', 'File14.png', 'File16.png', 'File42.png', 'File61.jpeg', 'File23.png']\n",
            "61\n"
          ]
        }
      ],
      "source": [
        "folder_path='/content/Virabhadrasana Two'\n",
        "folder_images=os.listdir(folder_path)\n",
        "print(folder_images)\n",
        "print(len(folder_images))\n",
        "for i in range(61):\n",
        "  img_path=folder_path+'/'+folder_images[i]\n",
        "  img_pillow=Image.open(img_path)\n",
        "  img_color=img_pillow.convert('RGB')\n",
        "  img_resize=img_color.resize((64,64))\n",
        "  img_arr=np.array(img_resize)\n",
        "  data.append([img_arr,45])"
      ]
    },
    {
      "cell_type": "code",
      "execution_count": 53,
      "metadata": {
        "colab": {
          "base_uri": "https://localhost:8080/"
        },
        "id": "RZ06XSXEX5Ex",
        "outputId": "b4cf2e40-6e0f-4fdf-fbfa-c07bf2c91b9f"
      },
      "outputs": [
        {
          "output_type": "stream",
          "name": "stdout",
          "text": [
            "['File31.png', 'File28.png', 'File63.jpeg', 'File15.png', 'File26.png', 'File20.png', 'File39.png', 'File37.png', 'File54.png', 'File61.png', 'File47.png', 'File3.png', 'File52.png', 'File59.png', 'File56.png', 'File68.png', 'File1.png', 'File35.png', 'File4.png', 'File44.png', 'File43.png', 'File19.png', 'File46.png', 'File13.png', 'File34.png', 'File18.png', 'File11.png', 'File64.jpeg', 'File41.png', 'File49.png', 'File55.png', 'File40.png', 'File22.png', 'File30.png', 'File33.png', 'File50.png', 'File12.png', 'File62.png', 'File53.png', 'File51.png', 'File21.png', 'File27.png', 'File5.png', 'File57.png', 'File45.png', 'File24.png', 'File7.png', 'File67.jpeg', 'File38.png', 'File32.png', 'File58.png', 'File17.png', 'File6.png', 'File2.png', 'File9.png', 'File65.jpeg', 'File29.png', 'File10.png', 'File25.png', 'File8.png', 'File36.png', 'File60.png', 'File48.png', 'File66.jpeg', 'File14.png', 'File16.png', 'File42.png', 'File23.png']\n",
            "68\n"
          ]
        }
      ],
      "source": [
        "folder_path='/content/Vrksasana'\n",
        "folder_images=os.listdir(folder_path)\n",
        "print(folder_images)\n",
        "print(len(folder_images))\n",
        "for i in range(68):\n",
        "  img_path=folder_path+'/'+folder_images[i]\n",
        "  img_pillow=Image.open(img_path)\n",
        "  img_color=img_pillow.convert('RGB')\n",
        "  img_resize=img_color.resize((64,64))\n",
        "  img_arr=np.array(img_resize)\n",
        "  data.append([img_arr,46])"
      ]
    },
    {
      "cell_type": "code",
      "execution_count": 54,
      "metadata": {
        "colab": {
          "base_uri": "https://localhost:8080/"
        },
        "id": "w9f-9l3BYY0j",
        "outputId": "bad0a1f5-7328-4d54-a31a-9ca0497e3fcb"
      },
      "outputs": [
        {
          "output_type": "execute_result",
          "data": {
            "text/plain": [
              "2819"
            ]
          },
          "metadata": {},
          "execution_count": 54
        }
      ],
      "source": [
        "len(data)"
      ]
    },
    {
      "cell_type": "code",
      "execution_count": 55,
      "metadata": {
        "id": "d35z99VXYZmg"
      },
      "outputs": [],
      "source": [
        "x=[]\n",
        "y=[]\n",
        "for i,j in data:\n",
        "  x.append(i)\n",
        "  y.append(j)"
      ]
    },
    {
      "cell_type": "code",
      "execution_count": 56,
      "metadata": {
        "id": "ylCYTWgCYt8H"
      },
      "outputs": [],
      "source": [
        "x=np.array(x)\n",
        "y=np.array(y)"
      ]
    },
    {
      "cell_type": "code",
      "execution_count": 57,
      "metadata": {
        "colab": {
          "base_uri": "https://localhost:8080/"
        },
        "id": "cgltEukgZVZ_",
        "outputId": "19e55e9f-cd06-43cb-c224-bd1ab36daca5"
      },
      "outputs": [
        {
          "output_type": "execute_result",
          "data": {
            "text/plain": [
              "46"
            ]
          },
          "metadata": {},
          "execution_count": 57
        }
      ],
      "source": [
        "max(y)"
      ]
    },
    {
      "cell_type": "code",
      "execution_count": 58,
      "metadata": {
        "id": "75mKpPdwYyKd"
      },
      "outputs": [],
      "source": [
        "from sklearn.model_selection import train_test_split\n",
        "x_train,x_test,y_train,y_test=train_test_split(x,y,test_size=0.1,random_state=0)"
      ]
    },
    {
      "cell_type": "code",
      "execution_count": 59,
      "metadata": {
        "colab": {
          "base_uri": "https://localhost:8080/",
          "height": 81
        },
        "id": "jwdSw2qeY_Kq",
        "outputId": "e01f5bfe-b1c7-4ded-e7f1-7971146f9805"
      },
      "outputs": [
        {
          "output_type": "display_data",
          "data": {
            "text/plain": [
              "<PIL.Image.Image image mode=RGB size=64x64>"
            ],
            "image/png": "[encoded data removed]"
          },
          "metadata": {}
        }
      ],
      "source": [
        "cv2_imshow(x_train[0])"
      ]
    },
    {
      "cell_type": "code",
      "execution_count": 60,
      "metadata": {
        "id": "7_W2pu1JZBVM"
      },
      "outputs": [],
      "source": [
        "x_train_scaled=x_train/255\n",
        "x_test_scaled=x_test/255"
      ]
    },
    {
      "cell_type": "code",
      "execution_count": 61,
      "metadata": {
        "id": "TOBHTF96ZXoy"
      },
      "outputs": [],
      "source": [
        "import tensorflow as tf\n",
        "from tensorflow import keras"
      ]
    },
    {
      "cell_type": "code",
      "execution_count": 62,
      "metadata": {
        "id": "VrEOOoDWZLw8"
      },
      "outputs": [],
      "source": [
        "num_of_classes=47\n",
        "model=keras.Sequential()\n",
        "\n",
        "model.add(keras.layers.Conv2D(32,kernel_size=(3,3),activation='relu',input_shape=(64,64,3)))\n",
        "model.add(keras.layers.MaxPooling2D(pool_size=(2,2)))\n",
        "\n",
        "model.add(keras.layers.Conv2D(64,kernel_size=(3,3),activation='relu'))\n",
        "model.add(keras.layers.MaxPooling2D(pool_size=(2,2)))\n",
        "\n",
        "model.add(keras.layers.Flatten())\n",
        "\n",
        "model.add(keras.layers.Dense(128,activation='relu'))\n",
        "model.add(keras.layers.Dropout(0.5))\n",
        "\n",
        "model.add(keras.layers.Dense(64,activation='relu'))\n",
        "model.add(keras.layers.Dropout(0.5))\n",
        "\n",
        "model.add(keras.layers.Dense(num_of_classes,activation='softmax'))"
      ]
    },
    {
      "cell_type": "code",
      "execution_count": 63,
      "metadata": {
        "id": "ZOQI1ObjZicE"
      },
      "outputs": [],
      "source": [
        "model.compile(optimizer='adam',loss='sparse_categorical_crossentropy',metrics=['accuracy'])"
      ]
    },
    {
      "cell_type": "code",
      "execution_count": 66,
      "metadata": {
        "colab": {
          "base_uri": "https://localhost:8080/"
        },
        "id": "TZNy7b-UZxO5",
        "outputId": "c967dc4e-8d44-4af1-b612-f9734d68c3f7"
      },
      "outputs": [
        {
          "output_type": "stream",
          "name": "stdout",
          "text": [
            "Epoch 1/20\n",
            "72/72 [==============================] - 20s 276ms/step - loss: 0.4880 - accuracy: 0.8463 - val_loss: 2.4661 - val_accuracy: 0.6024\n",
            "Epoch 2/20\n",
            "72/72 [==============================] - 15s 207ms/step - loss: 0.4533 - accuracy: 0.8655 - val_loss: 2.5284 - val_accuracy: 0.5945\n",
            "Epoch 3/20\n",
            "72/72 [==============================] - 15s 206ms/step - loss: 0.4215 - accuracy: 0.8590 - val_loss: 2.5771 - val_accuracy: 0.5748\n",
            "Epoch 4/20\n",
            "72/72 [==============================] - 15s 204ms/step - loss: 0.4565 - accuracy: 0.8550 - val_loss: 2.6881 - val_accuracy: 0.6063\n",
            "Epoch 5/20\n",
            "72/72 [==============================] - 15s 209ms/step - loss: 0.4846 - accuracy: 0.8511 - val_loss: 2.5768 - val_accuracy: 0.5866\n",
            "Epoch 6/20\n",
            "72/72 [==============================] - 15s 210ms/step - loss: 0.4145 - accuracy: 0.8677 - val_loss: 2.7239 - val_accuracy: 0.6063\n",
            "Epoch 7/20\n",
            "72/72 [==============================] - 15s 212ms/step - loss: 0.4284 - accuracy: 0.8664 - val_loss: 2.5165 - val_accuracy: 0.5709\n",
            "Epoch 8/20\n",
            "72/72 [==============================] - 15s 209ms/step - loss: 0.4691 - accuracy: 0.8498 - val_loss: 2.4906 - val_accuracy: 0.5984\n",
            "Epoch 9/20\n",
            "72/72 [==============================] - 16s 218ms/step - loss: 0.4437 - accuracy: 0.8559 - val_loss: 2.4457 - val_accuracy: 0.5984\n",
            "Epoch 10/20\n",
            "72/72 [==============================] - 15s 210ms/step - loss: 0.4316 - accuracy: 0.8638 - val_loss: 2.5881 - val_accuracy: 0.6024\n",
            "Epoch 11/20\n",
            "72/72 [==============================] - 15s 210ms/step - loss: 0.4278 - accuracy: 0.8664 - val_loss: 2.5441 - val_accuracy: 0.6024\n",
            "Epoch 12/20\n",
            "72/72 [==============================] - 15s 203ms/step - loss: 0.4427 - accuracy: 0.8638 - val_loss: 2.6286 - val_accuracy: 0.5945\n",
            "Epoch 13/20\n",
            "72/72 [==============================] - 14s 196ms/step - loss: 0.4491 - accuracy: 0.8563 - val_loss: 2.5315 - val_accuracy: 0.5906\n",
            "Epoch 14/20\n",
            "72/72 [==============================] - 14s 200ms/step - loss: 0.4366 - accuracy: 0.8616 - val_loss: 2.6943 - val_accuracy: 0.6024\n",
            "Epoch 15/20\n",
            "72/72 [==============================] - 14s 199ms/step - loss: 0.4444 - accuracy: 0.8515 - val_loss: 2.5635 - val_accuracy: 0.5866\n",
            "Epoch 16/20\n",
            "72/72 [==============================] - 14s 199ms/step - loss: 0.4612 - accuracy: 0.8502 - val_loss: 2.5019 - val_accuracy: 0.6063\n",
            "Epoch 17/20\n",
            "72/72 [==============================] - 14s 200ms/step - loss: 0.4155 - accuracy: 0.8717 - val_loss: 2.6378 - val_accuracy: 0.5827\n",
            "Epoch 18/20\n",
            "72/72 [==============================] - 15s 209ms/step - loss: 0.4524 - accuracy: 0.8563 - val_loss: 2.5539 - val_accuracy: 0.6063\n",
            "Epoch 19/20\n",
            "72/72 [==============================] - 15s 202ms/step - loss: 0.4381 - accuracy: 0.8519 - val_loss: 2.6752 - val_accuracy: 0.5945\n",
            "Epoch 20/20\n",
            "72/72 [==============================] - 14s 195ms/step - loss: 0.3941 - accuracy: 0.8686 - val_loss: 2.7027 - val_accuracy: 0.5748\n"
          ]
        },
        {
          "output_type": "execute_result",
          "data": {
            "text/plain": [
              "<keras.callbacks.History at 0x7fdf9c00f6a0>"
            ]
          },
          "metadata": {},
          "execution_count": 66
        }
      ],
      "source": [
        "model.fit(x_train_scaled,y_train,epochs=20,validation_split=0.1)"
      ]
    },
    {
      "cell_type": "code",
      "execution_count": 73,
      "metadata": {
        "id": "slEnuMaaZ1V1",
        "colab": {
          "base_uri": "https://localhost:8080/"
        },
        "outputId": "bbf7b194-120a-4e80-e1bf-f5298cc3a857"
      },
      "outputs": [
        {
          "output_type": "stream",
          "name": "stdout",
          "text": [
            "1/1 [==============================] - 0s 26ms/step\n",
            "The posture is Vrksasana\n"
          ]
        }
      ],
      "source": [
        "img_path='/content/Vrksasana/File1.png'\n",
        "img_pillow=Image.open(img_path)\n",
        "img_color=img_pillow.convert('RGB')\n",
        "img_resize=img_color.resize((64,64))\n",
        "img_arr=np.array(img_resize)\n",
        "img_scaled=img_arr/255\n",
        "img_reshape=np.reshape(img_scaled,[1,64,64,3])\n",
        "prediction=model.predict(img_reshape)\n",
        "output=np.argmax(prediction)\n",
        "if(output==0):\n",
        "  print('The posture is Adho Mukha Svanasana')\n",
        "elif(output==1):\n",
        "  print('The posture is Adho Mukha Vrksasana')\n",
        "elif(output==2):\n",
        "  print('The posture is Alanasana')\n",
        "elif(output==3):\n",
        "  print('The posture is Anjaneyasana')\n",
        "elif(output==4):\n",
        "  print('The posture is Ardha Chandrasana')\n",
        "elif(output==5):\n",
        "  print('The posture is Ardha Matsyendrasana')\n",
        "elif(output==6):\n",
        "  print('The posture is Ardha Navasana')\n",
        "elif(output==7):\n",
        "  print('The posture is Ardha Pincha Mayurasana')\n",
        "elif(output==8):\n",
        "  print('The posture is Ashta Chandrasana')\n",
        "elif(output==9):\n",
        "  print('The posture is Baddha Konasana')\n",
        "elif(output==10):\n",
        "  print('The posture is Bakasana')\n",
        "elif(output==11):\n",
        "  print('The posture is Balasana')\n",
        "elif(output==12):\n",
        "  print('The posture is Bitilasana')\n",
        "elif(output==13):\n",
        "  print('The posture is Camatkarasana')\n",
        "elif(output==14):\n",
        "  print('The posture is Dhanurasana')\n",
        "elif(output==15):\n",
        "  print('The posture is Eka Pada Rajakapotasana')\n",
        "elif(output==16):\n",
        "  print('The posture is Garudasana')\n",
        "elif(output==17):\n",
        "  print('The posture is Halasana')\n",
        "elif(output==18):\n",
        "  print('The posture is Hanumanasana')\n",
        "elif(output==19):\n",
        "  print('The posture is Malasana')\n",
        "elif(output==20):\n",
        "  print('The posture is Marjaryasana')\n",
        "elif(output==21):\n",
        "  print('The posture is Navasana')\n",
        "elif(output==22):\n",
        "  print('The posture is Padmasana')\n",
        "elif(output==23):\n",
        "  print('The posture is Parsva Virabhadrasana')\n",
        "elif(output==24):\n",
        "  print('The posture is Parsvottanasana')\n",
        "elif(output==25):\n",
        "  print('The posture is Paschimottanasana')\n",
        "elif(output==26):\n",
        "  print('The posture is Phalakasana')\n",
        "elif(output==27):\n",
        "  print('The posture is Pincha Mayurasana')\n",
        "elif(output==28):\n",
        "  print('The posture is Salamba Bhujangasana')\n",
        "elif(output==29):\n",
        "  print('The posture is Salamba Sarvangasana')\n",
        "elif(output==30):\n",
        "  print('The posture is Setu Bandha Sarvangasana')\n",
        "elif(output==31):\n",
        "  print('The posture is Sivasana')\n",
        "elif(output==32):\n",
        "  print('The posture is Supta Kapotasana')\n",
        "elif(output==33):\n",
        "  print('The posture is Trikonasana')\n",
        "elif(output==34):\n",
        "  print('The posture is Upavistha Konasana')\n",
        "elif(output==35):\n",
        "  print('The posture is Urdhva Dhanurasana')\n",
        "elif(output==36):\n",
        "  print('The posture is Urdhva Mukha Svsnssana')\n",
        "elif(output==37):\n",
        "  print('The posture is Ustrasana')\n",
        "elif(output==28):\n",
        "  print('The posture is Utkatasana')\n",
        "elif(output==39):\n",
        "  print('The posture is Uttanasana')\n",
        "elif(output==40):\n",
        "  print('The posture is Utthita Hasta Padangusthasana')\n",
        "elif(output==41):\n",
        "  print('The posture is Utthita Parsvakonasana')\n",
        "elif(output==42):\n",
        "  print('The posture is Vasisthasana')\n",
        "elif(output==43):\n",
        "  print('The posture is irabhadrasana One')\n",
        "elif(output==44):\n",
        "  print('The posture is Virabhadrasana Three')\n",
        "elif(output==45):\n",
        "  print('The posture is Virabhadrasana Two')\n",
        "elif(output==46):\n",
        "  print('The posture is Vrksasana')"
      ]
    },
    {
      "cell_type": "code",
      "source": [],
      "metadata": {
        "id": "PEbst8vbtMPz"
      },
      "execution_count": null,
      "outputs": []
    }
  ],
  "metadata": {
    "accelerator": "TPU",
    "colab": {
      "provenance": []
    },
    "kernelspec": {
      "display_name": "Python 3",
      "name": "python3"
    },
    "language_info": {
      "name": "python"
    }
  },
  "nbformat": 4,
  "nbformat_minor": 0
}